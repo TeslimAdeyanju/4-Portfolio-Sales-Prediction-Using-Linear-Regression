{
 "cells": [
  {
   "cell_type": "markdown",
   "metadata": {},
   "source": [
    "# Midterm Project: Predicting Profit Margins\n",
    "\n",
    "**Objective**:  \n",
    "The goal of this project is to analyze sales data and build a machine learning model to predict **profit margins** for different products based on various features such as sales quantity, discounts, and costs.\n",
    "\n",
    "**Problem Statement:**\n",
    "\n",
    "This project is an in-depth analysis of SuperStore’s transaction data aimed at uncovering insights to support strategic business decisions. By exploring this dataset, I seek to understand the key drivers of sales and profitability, with a focus on customer segments, product categories, discounting practices, and regional performance.\n",
    "\n",
    "The objectives of this analysis are:\n",
    "\n",
    "1. Identify Financial Drivers: Conduct an in-depth examination of factors such as customer demographics, discount levels, and regional sales to determine which variables most significantly impact revenue and profitability. This will highlight high-value areas that SuperStore may prioritize to enhance overall financial performance.\n",
    "\n",
    "2. Develop Predictive Models: Utilize linear regression to forecast sales and profit margins and logistic regression to classify orders as profitable or non-profitable. These models will aid in projecting future performance and guiding inventory, pricing, and marketing decisions.\n",
    "\n",
    "3. Provide Actionable Recommendations: Based on the insights gained from financial analysis and predictive modeling, this project will offer data-driven strategies to optimize SuperStore’s revenue growth and profitability. Recommendations will cover discount policies, customer targeting, and inventory management.\n",
    "\n",
    "This project serves as both a personal development initiative to refine my data science and financial analysis skills and a practical exploration of how data-driven insights can address real-world business challenges in the retail sector.\n",
    "\n",
    "\n",
    "\n",
    "#### Dataset Overview\n",
    "The dataset contains sales records with features like:\n",
    "- **Order and Shipping Details**: Order date, ship date, and processing time.\n",
    "- **Customer and Product Information**: Product category, subcategory, segment, and manufacturer.\n",
    "- **Financial Metrics**: Selling price, discount, cost, and profit.\n",
    "\n",
    "#### Steps:\n",
    "1. Data Cleaning and Preprocessing\n",
    "2. Exploratory Data Analysis\n",
    "3. Validation Framework\n",
    "4. Model Building, and Training\n",
    "5. Model Evaluation\n"
   ]
  },
  {
   "cell_type": "markdown",
   "metadata": {},
   "source": [
    "## Section 1: Data Cleaning and Preprocessing\n",
    "___"
   ]
  },
  {
   "cell_type": "markdown",
   "metadata": {},
   "source": [
    "### Importing the necessary libraries. and loading the dataset\n",
    "\n"
   ]
  },
  {
   "cell_type": "code",
   "execution_count": 569,
   "metadata": {},
   "outputs": [],
   "source": [
    "# data analysis and wrangling\n",
    "import pandas as pd\n",
    "import numpy as np\n",
    "import skimpy as sp\n",
    "import dtale as dt\n",
    "\n",
    "# visualization\n",
    "import matplotlib.pyplot as plt\n",
    "import seaborn as sns\n",
    "\n",
    "# machine learning\n",
    "from sklearn.preprocessing import StandardScaler\n",
    "from sklearn.model_selection import train_test_split\n",
    "from sklearn.linear_model import LogisticRegression\n",
    "from sklearn.metrics import classification_report, confusion_matrix\n",
    "from sklearn.ensemble import RandomForestClassifier"
   ]
  },
  {
   "cell_type": "code",
   "execution_count": 570,
   "metadata": {},
   "outputs": [
    {
     "data": {
      "text/html": [
       "<div>\n",
       "<style scoped>\n",
       "    .dataframe tbody tr th:only-of-type {\n",
       "        vertical-align: middle;\n",
       "    }\n",
       "\n",
       "    .dataframe tbody tr th {\n",
       "        vertical-align: top;\n",
       "    }\n",
       "\n",
       "    .dataframe thead th {\n",
       "        text-align: right;\n",
       "    }\n",
       "</style>\n",
       "<table border=\"1\" class=\"dataframe\">\n",
       "  <thead>\n",
       "    <tr style=\"text-align: right;\">\n",
       "      <th></th>\n",
       "      <th>order_id</th>\n",
       "      <th>order_date</th>\n",
       "      <th>ship_date</th>\n",
       "      <th>customer</th>\n",
       "      <th>manufactory</th>\n",
       "      <th>product_name</th>\n",
       "      <th>segment</th>\n",
       "      <th>category</th>\n",
       "      <th>subcategory</th>\n",
       "      <th>region</th>\n",
       "      <th>zip</th>\n",
       "      <th>city</th>\n",
       "      <th>state</th>\n",
       "      <th>country</th>\n",
       "      <th>discount</th>\n",
       "      <th>profit</th>\n",
       "      <th>quantity</th>\n",
       "      <th>sales</th>\n",
       "      <th>profit_margin</th>\n",
       "    </tr>\n",
       "  </thead>\n",
       "  <tbody>\n",
       "    <tr>\n",
       "      <th>0</th>\n",
       "      <td>US-2020-103800</td>\n",
       "      <td>1/3/2019</td>\n",
       "      <td>1/7/2019</td>\n",
       "      <td>Darren Powers</td>\n",
       "      <td>Message Book</td>\n",
       "      <td>Message Book, Wirebound, Four 5 1/2\" X 4\" Form...</td>\n",
       "      <td>Consumer</td>\n",
       "      <td>Office Supplies</td>\n",
       "      <td>Paper</td>\n",
       "      <td>Central</td>\n",
       "      <td>77095</td>\n",
       "      <td>Houston</td>\n",
       "      <td>Texas</td>\n",
       "      <td>United States</td>\n",
       "      <td>0.2</td>\n",
       "      <td>5.5512</td>\n",
       "      <td>2</td>\n",
       "      <td>16.448</td>\n",
       "      <td>0.3375</td>\n",
       "    </tr>\n",
       "    <tr>\n",
       "      <th>1</th>\n",
       "      <td>US-2020-112326</td>\n",
       "      <td>1/4/2019</td>\n",
       "      <td>1/8/2019</td>\n",
       "      <td>Phillina Ober</td>\n",
       "      <td>GBC</td>\n",
       "      <td>GBC Standard Plastic Binding Systems Combs</td>\n",
       "      <td>Home Office</td>\n",
       "      <td>Office Supplies</td>\n",
       "      <td>Binders</td>\n",
       "      <td>Central</td>\n",
       "      <td>60540</td>\n",
       "      <td>Naperville</td>\n",
       "      <td>Illinois</td>\n",
       "      <td>United States</td>\n",
       "      <td>0.8</td>\n",
       "      <td>-5.4870</td>\n",
       "      <td>2</td>\n",
       "      <td>3.540</td>\n",
       "      <td>-1.5500</td>\n",
       "    </tr>\n",
       "    <tr>\n",
       "      <th>2</th>\n",
       "      <td>US-2020-112326</td>\n",
       "      <td>1/4/2019</td>\n",
       "      <td>1/8/2019</td>\n",
       "      <td>Phillina Ober</td>\n",
       "      <td>Avery</td>\n",
       "      <td>Avery 508</td>\n",
       "      <td>Home Office</td>\n",
       "      <td>Office Supplies</td>\n",
       "      <td>Labels</td>\n",
       "      <td>Central</td>\n",
       "      <td>60540</td>\n",
       "      <td>Naperville</td>\n",
       "      <td>Illinois</td>\n",
       "      <td>United States</td>\n",
       "      <td>0.2</td>\n",
       "      <td>4.2717</td>\n",
       "      <td>3</td>\n",
       "      <td>11.784</td>\n",
       "      <td>0.3625</td>\n",
       "    </tr>\n",
       "    <tr>\n",
       "      <th>3</th>\n",
       "      <td>US-2020-112326</td>\n",
       "      <td>1/4/2019</td>\n",
       "      <td>1/8/2019</td>\n",
       "      <td>Phillina Ober</td>\n",
       "      <td>SAFCO</td>\n",
       "      <td>SAFCO Boltless Steel Shelving</td>\n",
       "      <td>Home Office</td>\n",
       "      <td>Office Supplies</td>\n",
       "      <td>Storage</td>\n",
       "      <td>Central</td>\n",
       "      <td>60540</td>\n",
       "      <td>Naperville</td>\n",
       "      <td>Illinois</td>\n",
       "      <td>United States</td>\n",
       "      <td>0.2</td>\n",
       "      <td>-64.7748</td>\n",
       "      <td>3</td>\n",
       "      <td>272.736</td>\n",
       "      <td>-0.2375</td>\n",
       "    </tr>\n",
       "    <tr>\n",
       "      <th>4</th>\n",
       "      <td>US-2020-141817</td>\n",
       "      <td>1/5/2019</td>\n",
       "      <td>1/12/2019</td>\n",
       "      <td>Mick Brown</td>\n",
       "      <td>Avery</td>\n",
       "      <td>Avery Hi-Liter EverBold Pen Style Fluorescent ...</td>\n",
       "      <td>Consumer</td>\n",
       "      <td>Office Supplies</td>\n",
       "      <td>Art</td>\n",
       "      <td>East</td>\n",
       "      <td>19143</td>\n",
       "      <td>Philadelphia</td>\n",
       "      <td>Pennsylvania</td>\n",
       "      <td>United States</td>\n",
       "      <td>0.2</td>\n",
       "      <td>4.8840</td>\n",
       "      <td>3</td>\n",
       "      <td>19.536</td>\n",
       "      <td>0.2500</td>\n",
       "    </tr>\n",
       "  </tbody>\n",
       "</table>\n",
       "</div>"
      ],
      "text/plain": [
       "         order_id order_date  ship_date       customer   manufactory  \\\n",
       "0  US-2020-103800   1/3/2019   1/7/2019  Darren Powers  Message Book   \n",
       "1  US-2020-112326   1/4/2019   1/8/2019  Phillina Ober           GBC   \n",
       "2  US-2020-112326   1/4/2019   1/8/2019  Phillina Ober         Avery   \n",
       "3  US-2020-112326   1/4/2019   1/8/2019  Phillina Ober         SAFCO   \n",
       "4  US-2020-141817   1/5/2019  1/12/2019     Mick Brown         Avery   \n",
       "\n",
       "                                        product_name      segment  \\\n",
       "0  Message Book, Wirebound, Four 5 1/2\" X 4\" Form...     Consumer   \n",
       "1         GBC Standard Plastic Binding Systems Combs  Home Office   \n",
       "2                                          Avery 508  Home Office   \n",
       "3                      SAFCO Boltless Steel Shelving  Home Office   \n",
       "4  Avery Hi-Liter EverBold Pen Style Fluorescent ...     Consumer   \n",
       "\n",
       "          category subcategory   region    zip          city         state  \\\n",
       "0  Office Supplies       Paper  Central  77095       Houston         Texas   \n",
       "1  Office Supplies     Binders  Central  60540    Naperville      Illinois   \n",
       "2  Office Supplies      Labels  Central  60540    Naperville      Illinois   \n",
       "3  Office Supplies     Storage  Central  60540    Naperville      Illinois   \n",
       "4  Office Supplies         Art     East  19143  Philadelphia  Pennsylvania   \n",
       "\n",
       "         country  discount   profit  quantity    sales  profit_margin  \n",
       "0  United States       0.2   5.5512         2   16.448         0.3375  \n",
       "1  United States       0.8  -5.4870         2    3.540        -1.5500  \n",
       "2  United States       0.2   4.2717         3   11.784         0.3625  \n",
       "3  United States       0.2 -64.7748         3  272.736        -0.2375  \n",
       "4  United States       0.2   4.8840         3   19.536         0.2500  "
      ]
     },
     "execution_count": 570,
     "metadata": {},
     "output_type": "execute_result"
    }
   ],
   "source": [
    "# file path of the CSV file\n",
    "file_path = '/Users/teslim/OneDrive/mlzoomcamp/superstore_dataset.csv'\n",
    "\n",
    "# Load the dataset into a pandas DataFrame\n",
    "df = pd.read_csv(file_path)\n",
    "\n",
    "# Preview the loaded data\n",
    "df.head()"
   ]
  },
  {
   "cell_type": "markdown",
   "metadata": {},
   "source": [
    "### Data Processing"
   ]
  },
  {
   "cell_type": "code",
   "execution_count": 571,
   "metadata": {},
   "outputs": [
    {
     "name": "stdout",
     "output_type": "stream",
     "text": [
      "<class 'pandas.core.frame.DataFrame'>\n",
      "RangeIndex: 9994 entries, 0 to 9993\n",
      "Data columns (total 19 columns):\n",
      " #   Column         Non-Null Count  Dtype  \n",
      "---  ------         --------------  -----  \n",
      " 0   order_id       9994 non-null   object \n",
      " 1   order_date     9994 non-null   object \n",
      " 2   ship_date      9994 non-null   object \n",
      " 3   customer       9994 non-null   object \n",
      " 4   manufactory    9994 non-null   object \n",
      " 5   product_name   9994 non-null   object \n",
      " 6   segment        9994 non-null   object \n",
      " 7   category       9994 non-null   object \n",
      " 8   subcategory    9994 non-null   object \n",
      " 9   region         9994 non-null   object \n",
      " 10  zip            9994 non-null   int64  \n",
      " 11  city           9994 non-null   object \n",
      " 12  state          9994 non-null   object \n",
      " 13  country        9994 non-null   object \n",
      " 14  discount       9994 non-null   float64\n",
      " 15  profit         9994 non-null   float64\n",
      " 16  quantity       9994 non-null   int64  \n",
      " 17  sales          9994 non-null   float64\n",
      " 18  profit_margin  9994 non-null   float64\n",
      "dtypes: float64(4), int64(2), object(13)\n",
      "memory usage: 1.4+ MB\n"
     ]
    }
   ],
   "source": [
    "# check the data types of the columns\n",
    "df.info()"
   ]
  },
  {
   "cell_type": "code",
   "execution_count": 572,
   "metadata": {},
   "outputs": [
    {
     "data": {
      "text/plain": [
       "(9994, 19)"
      ]
     },
     "execution_count": 572,
     "metadata": {},
     "output_type": "execute_result"
    }
   ],
   "source": [
    "# check the shape of the dataset\n",
    "df.shape"
   ]
  },
  {
   "cell_type": "code",
   "execution_count": null,
   "metadata": {},
   "outputs": [
    {
     "data": {
      "text/html": [
       "<div>\n",
       "<style scoped>\n",
       "    .dataframe tbody tr th:only-of-type {\n",
       "        vertical-align: middle;\n",
       "    }\n",
       "\n",
       "    .dataframe tbody tr th {\n",
       "        vertical-align: top;\n",
       "    }\n",
       "\n",
       "    .dataframe thead th {\n",
       "        text-align: right;\n",
       "    }\n",
       "</style>\n",
       "<table border=\"1\" class=\"dataframe\">\n",
       "  <thead>\n",
       "    <tr style=\"text-align: right;\">\n",
       "      <th></th>\n",
       "      <th>order_date</th>\n",
       "      <th>ship_date</th>\n",
       "      <th>discount</th>\n",
       "      <th>profit</th>\n",
       "      <th>quantity</th>\n",
       "      <th>sales</th>\n",
       "      <th>profit_margin</th>\n",
       "      <th>order_process_time</th>\n",
       "      <th>selling_price_per_unit</th>\n",
       "      <th>discount_per_unit</th>\n",
       "      <th>profit_per_unit</th>\n",
       "      <th>cost_per_unit</th>\n",
       "    </tr>\n",
       "  </thead>\n",
       "  <tbody>\n",
       "    <tr>\n",
       "      <th>count</th>\n",
       "      <td>9994</td>\n",
       "      <td>9994</td>\n",
       "      <td>9994.000000</td>\n",
       "      <td>9994.000000</td>\n",
       "      <td>9994.000000</td>\n",
       "      <td>9994.000000</td>\n",
       "      <td>9994.000000</td>\n",
       "      <td>9994.000000</td>\n",
       "      <td>9994.000000</td>\n",
       "      <td>9994.000000</td>\n",
       "      <td>9994.000000</td>\n",
       "      <td>9994.000000</td>\n",
       "    </tr>\n",
       "    <tr>\n",
       "      <th>mean</th>\n",
       "      <td>2021-04-30 05:17:08.056834048</td>\n",
       "      <td>2021-05-04 04:17:20.304182528</td>\n",
       "      <td>0.156203</td>\n",
       "      <td>28.656896</td>\n",
       "      <td>3.789574</td>\n",
       "      <td>229.858001</td>\n",
       "      <td>0.120314</td>\n",
       "      <td>3.958475</td>\n",
       "      <td>60.919569</td>\n",
       "      <td>8.547946</td>\n",
       "      <td>7.799372</td>\n",
       "      <td>44.572251</td>\n",
       "    </tr>\n",
       "    <tr>\n",
       "      <th>min</th>\n",
       "      <td>2019-01-03 00:00:00</td>\n",
       "      <td>2019-01-07 00:00:00</td>\n",
       "      <td>0.000000</td>\n",
       "      <td>-6599.978000</td>\n",
       "      <td>1.000000</td>\n",
       "      <td>0.444000</td>\n",
       "      <td>-2.750000</td>\n",
       "      <td>0.000000</td>\n",
       "      <td>0.336000</td>\n",
       "      <td>0.000000</td>\n",
       "      <td>-1319.995600</td>\n",
       "      <td>0.386100</td>\n",
       "    </tr>\n",
       "    <tr>\n",
       "      <th>25%</th>\n",
       "      <td>2020-05-23 00:00:00</td>\n",
       "      <td>2020-05-27 00:00:00</td>\n",
       "      <td>0.000000</td>\n",
       "      <td>1.728750</td>\n",
       "      <td>2.000000</td>\n",
       "      <td>17.280000</td>\n",
       "      <td>0.075000</td>\n",
       "      <td>3.000000</td>\n",
       "      <td>5.470000</td>\n",
       "      <td>0.000000</td>\n",
       "      <td>0.722800</td>\n",
       "      <td>3.267000</td>\n",
       "    </tr>\n",
       "    <tr>\n",
       "      <th>50%</th>\n",
       "      <td>2021-06-26 00:00:00</td>\n",
       "      <td>2021-06-29 00:00:00</td>\n",
       "      <td>0.200000</td>\n",
       "      <td>8.666500</td>\n",
       "      <td>3.000000</td>\n",
       "      <td>54.490000</td>\n",
       "      <td>0.270000</td>\n",
       "      <td>4.000000</td>\n",
       "      <td>16.270000</td>\n",
       "      <td>0.460800</td>\n",
       "      <td>2.767000</td>\n",
       "      <td>10.956900</td>\n",
       "    </tr>\n",
       "    <tr>\n",
       "      <th>75%</th>\n",
       "      <td>2022-05-14 00:00:00</td>\n",
       "      <td>2022-05-18 00:00:00</td>\n",
       "      <td>0.200000</td>\n",
       "      <td>29.364000</td>\n",
       "      <td>5.000000</td>\n",
       "      <td>209.940000</td>\n",
       "      <td>0.362500</td>\n",
       "      <td>5.000000</td>\n",
       "      <td>63.940000</td>\n",
       "      <td>4.798400</td>\n",
       "      <td>8.703200</td>\n",
       "      <td>48.500400</td>\n",
       "    </tr>\n",
       "    <tr>\n",
       "      <th>max</th>\n",
       "      <td>2022-12-30 00:00:00</td>\n",
       "      <td>2023-01-05 00:00:00</td>\n",
       "      <td>0.800000</td>\n",
       "      <td>8399.976000</td>\n",
       "      <td>14.000000</td>\n",
       "      <td>22638.480000</td>\n",
       "      <td>0.500000</td>\n",
       "      <td>7.000000</td>\n",
       "      <td>3773.080000</td>\n",
       "      <td>1886.540000</td>\n",
       "      <td>1679.995200</td>\n",
       "      <td>2188.386400</td>\n",
       "    </tr>\n",
       "    <tr>\n",
       "      <th>std</th>\n",
       "      <td>NaN</td>\n",
       "      <td>NaN</td>\n",
       "      <td>0.206452</td>\n",
       "      <td>234.260108</td>\n",
       "      <td>2.225110</td>\n",
       "      <td>623.245101</td>\n",
       "      <td>0.466754</td>\n",
       "      <td>1.747603</td>\n",
       "      <td>142.927440</td>\n",
       "      <td>33.958865</td>\n",
       "      <td>56.074974</td>\n",
       "      <td>97.698409</td>\n",
       "    </tr>\n",
       "  </tbody>\n",
       "</table>\n",
       "</div>"
      ],
      "text/plain": [
       "                          order_date                      ship_date  \\\n",
       "count                           9994                           9994   \n",
       "mean   2021-04-30 05:17:08.056834048  2021-05-04 04:17:20.304182528   \n",
       "min              2019-01-03 00:00:00            2019-01-07 00:00:00   \n",
       "25%              2020-05-23 00:00:00            2020-05-27 00:00:00   \n",
       "50%              2021-06-26 00:00:00            2021-06-29 00:00:00   \n",
       "75%              2022-05-14 00:00:00            2022-05-18 00:00:00   \n",
       "max              2022-12-30 00:00:00            2023-01-05 00:00:00   \n",
       "std                              NaN                            NaN   \n",
       "\n",
       "          discount       profit     quantity         sales  profit_margin  \\\n",
       "count  9994.000000  9994.000000  9994.000000   9994.000000    9994.000000   \n",
       "mean      0.156203    28.656896     3.789574    229.858001       0.120314   \n",
       "min       0.000000 -6599.978000     1.000000      0.444000      -2.750000   \n",
       "25%       0.000000     1.728750     2.000000     17.280000       0.075000   \n",
       "50%       0.200000     8.666500     3.000000     54.490000       0.270000   \n",
       "75%       0.200000    29.364000     5.000000    209.940000       0.362500   \n",
       "max       0.800000  8399.976000    14.000000  22638.480000       0.500000   \n",
       "std       0.206452   234.260108     2.225110    623.245101       0.466754   \n",
       "\n",
       "       order_process_time  selling_price_per_unit  discount_per_unit  \\\n",
       "count         9994.000000             9994.000000        9994.000000   \n",
       "mean             3.958475               60.919569           8.547946   \n",
       "min              0.000000                0.336000           0.000000   \n",
       "25%              3.000000                5.470000           0.000000   \n",
       "50%              4.000000               16.270000           0.460800   \n",
       "75%              5.000000               63.940000           4.798400   \n",
       "max              7.000000             3773.080000        1886.540000   \n",
       "std              1.747603              142.927440          33.958865   \n",
       "\n",
       "       profit_per_unit  cost_per_unit  \n",
       "count      9994.000000    9994.000000  \n",
       "mean          7.799372      44.572251  \n",
       "min       -1319.995600       0.386100  \n",
       "25%           0.722800       3.267000  \n",
       "50%           2.767000      10.956900  \n",
       "75%           8.703200      48.500400  \n",
       "max        1679.995200    2188.386400  \n",
       "std          56.074974      97.698409  "
      ]
     },
     "execution_count": 625,
     "metadata": {},
     "output_type": "execute_result"
    }
   ],
   "source": [
    "# check for missing values\n",
    "df.describe()"
   ]
  },
  {
   "cell_type": "code",
   "execution_count": 626,
   "metadata": {},
   "outputs": [
    {
     "data": {
      "text/plain": [
       "order_date                0\n",
       "ship_date                 0\n",
       "customer                  0\n",
       "manufactory               0\n",
       "product_name              0\n",
       "segment                   0\n",
       "category                  0\n",
       "subcategory               0\n",
       "region                    0\n",
       "city                      0\n",
       "state                     0\n",
       "discount                  0\n",
       "profit                    0\n",
       "quantity                  0\n",
       "sales                     0\n",
       "profit_margin             0\n",
       "order_process_time        0\n",
       "selling_price_per_unit    0\n",
       "discount_per_unit         0\n",
       "profit_per_unit           0\n",
       "cost_per_unit             0\n",
       "dtype: int64"
      ]
     },
     "execution_count": 626,
     "metadata": {},
     "output_type": "execute_result"
    }
   ],
   "source": [
    "# check for missing values\n",
    "df.isnull().sum()"
   ]
  },
  {
   "cell_type": "markdown",
   "metadata": {},
   "source": [
    "### Feature Analysis for Predicting Superstore Sales"
   ]
  },
  {
   "cell_type": "markdown",
   "metadata": {},
   "source": [
    "#### Traget Variable\n",
    "\n",
    "1. **Sales (`sales`)**: This is the target variable we want to predict. It represents the total sales revenue generated from each order.\n",
    "2. **Profit (`profit`)**: This is another target variable we want to predict. It represents the total profit generated from each order.\n",
    "\n",
    "\n",
    "\n",
    "#### Most Relevant Features\n",
    "\n",
    "1. **Order Date (`order_date`)**  \n",
    "   Helps capture seasonality and trends in sales, which can be important for understanding peak times and forecasting future sales.\n",
    "\n",
    "2. **Ship Date (`ship_date`)**  \n",
    "   Can provide insights into logistics efficiency and its potential effect on sales, such as delayed orders which might impact customer satisfaction and future sales.\n",
    "\n",
    "3. **Customer (`customer`)**  \n",
    "   Different customers may have different spending habits, allowing to better understand customer behavior and segment sales predictions.\n",
    "\n",
    "4. **Manufactory (`manufactory`)**  \n",
    "   Manufacturer-related differences can influence the sales of specific product lines. Some manufacturers might perform better due to brand loyalty or perceived quality.\n",
    "\n",
    "5. **Product Name (`product_name`)**  \n",
    "   This feature can help if to differentiate sales based on specific products. Some products might be more popular or have higher margins, which can significantly impact sales.\n",
    "\n",
    "6. **Segment (`segment`)**  \n",
    "   Sales to different segments (e.g., Corporate, Consumer, Home Office) might vary significantly in terms of volume and price.\n",
    "\n",
    "7. **Category (`category`)** and **Subcategory (`subcategory`)**  \n",
    "   Understanding which category or subcategory a product belongs to helps group products into broader segments, which can significantly affect sales patterns.\n",
    "\n",
    "8. **Region (`region`)**, **City (`city`)**, **State (`state`)**, **Country (`country`)**  \n",
    "   Geographical features are important as they can indicate regional differences in demand, preferences, and buying power.\n",
    "\n",
    "9. **Discount (`discount`)**  \n",
    "   Sales are highly influenced by discounts. This is a very important feature to include as it directly affects sales numbers.\n",
    "\n",
    "10. **Quantity (`quantity`)**  \n",
    "    The quantity sold is clearly correlated with sales revenue and is a crucial input for sales prediction.\n",
    "\n",
    "11. **Profit Margin (`profit_margin`)**  \n",
    "    Profit margin can indicate how pricing strategies influence sales.\n",
    "\n",
    "#### Less Relevant Features\n",
    "\n",
    "1. **Zip (`zip`)**  \n",
    "   The zip code can provide fine geographical details, but including city, state, and region might already cover these geographical distinctions adequately. it is consider removing to avoid overfitting unless specific local analysis is needed.\n",
    "\n",
    "2. **Profit (`profit`)**  \n",
    "   Since profit is a derived metric from sales, including it might introduce redundancy. It's better to focus on sales and other influencing factors instead.\n",
    "\n",
    "3. **Order ID(`order_id`)**  \n",
    "   This is a unique identifier for each order and is not directly related to sales prediction. It is better to exclude it from the analysis.\n",
    "\n",
    "4. **Country (`country`)**  \n",
    "   The dataset is limited to a single country, this feature might not provide much variation and can be excluded.\n"
   ]
  },
  {
   "cell_type": "code",
   "execution_count": 573,
   "metadata": {},
   "outputs": [
    {
     "data": {
      "text/plain": [
       "['order_id',\n",
       " 'order_date',\n",
       " 'ship_date',\n",
       " 'customer',\n",
       " 'manufactory',\n",
       " 'product_name',\n",
       " 'segment',\n",
       " 'category',\n",
       " 'subcategory',\n",
       " 'region',\n",
       " 'zip',\n",
       " 'city',\n",
       " 'state',\n",
       " 'country',\n",
       " 'discount',\n",
       " 'profit',\n",
       " 'quantity',\n",
       " 'sales',\n",
       " 'profit_margin']"
      ]
     },
     "execution_count": 573,
     "metadata": {},
     "output_type": "execute_result"
    }
   ],
   "source": [
    "# listing all the columns \n",
    "df.columns.to_list()"
   ]
  },
  {
   "cell_type": "code",
   "execution_count": 574,
   "metadata": {},
   "outputs": [],
   "source": [
    "# droping irrelevant columns \n",
    "df.drop(columns=['zip','order_id', 'country'], inplace=True)"
   ]
  },
  {
   "cell_type": "code",
   "execution_count": 575,
   "metadata": {},
   "outputs": [
    {
     "data": {
      "text/plain": [
       "(9994, 16)"
      ]
     },
     "execution_count": 575,
     "metadata": {},
     "output_type": "execute_result"
    }
   ],
   "source": [
    "# check the shape of the dataset after dropping these 4 columns\n",
    "df.shape"
   ]
  },
  {
   "cell_type": "markdown",
   "metadata": {},
   "source": [
    "It is important to note that the relevance of features can vary depending on the specific business context and the goals of the analysis. The above list is a general guideline and may need to be adjusted based on the specific requirements of the project.\n",
    "\n",
    "The next stage is to derive new features from the existing data that can provide additional insights and improve the predictive power of the models. This can include features such as:\n",
    "\n",
    "- **Order Processing Time**: The time taken between order and shipment can indicate efficiency and customer satisfaction.\n",
    "- **Product Price**: The price of the product can be a key factor in determining sales revenue.\n",
    "- **Discount Amount**: The actual discount amount can be more informative than just the discount percentage. "
   ]
  },
  {
   "cell_type": "markdown",
   "metadata": {},
   "source": [
    "#### Order processing time\n"
   ]
  },
  {
   "cell_type": "code",
   "execution_count": 576,
   "metadata": {},
   "outputs": [
    {
     "name": "stdout",
     "output_type": "stream",
     "text": [
      "<class 'pandas.core.frame.DataFrame'>\n",
      "RangeIndex: 9994 entries, 0 to 9993\n",
      "Data columns (total 16 columns):\n",
      " #   Column         Non-Null Count  Dtype         \n",
      "---  ------         --------------  -----         \n",
      " 0   order_date     9994 non-null   datetime64[ns]\n",
      " 1   ship_date      9994 non-null   datetime64[ns]\n",
      " 2   customer       9994 non-null   object        \n",
      " 3   manufactory    9994 non-null   object        \n",
      " 4   product_name   9994 non-null   object        \n",
      " 5   segment        9994 non-null   object        \n",
      " 6   category       9994 non-null   object        \n",
      " 7   subcategory    9994 non-null   object        \n",
      " 8   region         9994 non-null   object        \n",
      " 9   city           9994 non-null   object        \n",
      " 10  state          9994 non-null   object        \n",
      " 11  discount       9994 non-null   float64       \n",
      " 12  profit         9994 non-null   float64       \n",
      " 13  quantity       9994 non-null   int64         \n",
      " 14  sales          9994 non-null   float64       \n",
      " 15  profit_margin  9994 non-null   float64       \n",
      "dtypes: datetime64[ns](2), float64(4), int64(1), object(9)\n",
      "memory usage: 1.2+ MB\n"
     ]
    }
   ],
   "source": [
    "# convertin the order_date, and ship_date column to datetime\n",
    "df['order_date'] = pd.to_datetime(df['order_date'])\n",
    "\n",
    "df['ship_date'] = pd.to_datetime(df['ship_date'])\n",
    "\n",
    "# check the data types of the columns\n",
    "df.info()   "
   ]
  },
  {
   "cell_type": "code",
   "execution_count": 577,
   "metadata": {},
   "outputs": [],
   "source": [
    "# Deriving new columns from the order_processing_time column\n",
    "\n",
    "df['order_process_time'] = df['ship_date'] - df['order_date']"
   ]
  },
  {
   "cell_type": "code",
   "execution_count": 578,
   "metadata": {},
   "outputs": [
    {
     "data": {
      "text/plain": [
       "0      2019-01-03\n",
       "1      2019-01-04\n",
       "2      2019-01-04\n",
       "3      2019-01-04\n",
       "4      2019-01-05\n",
       "          ...    \n",
       "9989   2022-12-30\n",
       "9990   2022-12-30\n",
       "9991   2022-12-30\n",
       "9992   2022-12-30\n",
       "9993   2022-12-30\n",
       "Name: order_date, Length: 9994, dtype: datetime64[ns]"
      ]
     },
     "execution_count": 578,
     "metadata": {},
     "output_type": "execute_result"
    }
   ],
   "source": [
    "# check the data types of the columns\n",
    "df['order_date']"
   ]
  },
  {
   "cell_type": "code",
   "execution_count": 579,
   "metadata": {},
   "outputs": [
    {
     "data": {
      "text/plain": [
       "0      2019-01-07\n",
       "1      2019-01-08\n",
       "2      2019-01-08\n",
       "3      2019-01-08\n",
       "4      2019-01-12\n",
       "          ...    \n",
       "9989   2023-01-05\n",
       "9990   2023-01-03\n",
       "9991   2023-01-03\n",
       "9992   2023-01-03\n",
       "9993   2023-01-03\n",
       "Name: ship_date, Length: 9994, dtype: datetime64[ns]"
      ]
     },
     "execution_count": 579,
     "metadata": {},
     "output_type": "execute_result"
    }
   ],
   "source": [
    "df['ship_date']"
   ]
  },
  {
   "cell_type": "code",
   "execution_count": 580,
   "metadata": {},
   "outputs": [],
   "source": [
    "# the higher the order_process_time, the likely the customer will not be satisfied\n",
    "df['order_process_time'] = df['order_process_time'].dt.total_seconds() / (24 * 3600)  # convert to days"
   ]
  },
  {
   "cell_type": "code",
   "execution_count": 581,
   "metadata": {},
   "outputs": [
    {
     "data": {
      "text/plain": [
       "0       4.0\n",
       "1       4.0\n",
       "2       4.0\n",
       "3       4.0\n",
       "4       7.0\n",
       "       ... \n",
       "9989    6.0\n",
       "9990    4.0\n",
       "9991    4.0\n",
       "9992    4.0\n",
       "9993    4.0\n",
       "Name: order_process_time, Length: 9994, dtype: float64"
      ]
     },
     "execution_count": 581,
     "metadata": {},
     "output_type": "execute_result"
    }
   ],
   "source": [
    "df['order_process_time']"
   ]
  },
  {
   "cell_type": "code",
   "execution_count": 583,
   "metadata": {},
   "outputs": [
    {
     "data": {
      "text/html": [
       "<div>\n",
       "<style scoped>\n",
       "    .dataframe tbody tr th:only-of-type {\n",
       "        vertical-align: middle;\n",
       "    }\n",
       "\n",
       "    .dataframe tbody tr th {\n",
       "        vertical-align: top;\n",
       "    }\n",
       "\n",
       "    .dataframe thead th {\n",
       "        text-align: right;\n",
       "    }\n",
       "</style>\n",
       "<table border=\"1\" class=\"dataframe\">\n",
       "  <thead>\n",
       "    <tr style=\"text-align: right;\">\n",
       "      <th></th>\n",
       "      <th>order_date</th>\n",
       "      <th>ship_date</th>\n",
       "      <th>customer</th>\n",
       "      <th>manufactory</th>\n",
       "      <th>product_name</th>\n",
       "      <th>segment</th>\n",
       "      <th>category</th>\n",
       "      <th>subcategory</th>\n",
       "      <th>region</th>\n",
       "      <th>city</th>\n",
       "      <th>state</th>\n",
       "      <th>discount</th>\n",
       "      <th>profit</th>\n",
       "      <th>quantity</th>\n",
       "      <th>sales</th>\n",
       "      <th>profit_margin</th>\n",
       "      <th>order_process_time</th>\n",
       "    </tr>\n",
       "  </thead>\n",
       "  <tbody>\n",
       "    <tr>\n",
       "      <th>0</th>\n",
       "      <td>2019-01-03</td>\n",
       "      <td>2019-01-07</td>\n",
       "      <td>Darren Powers</td>\n",
       "      <td>Message Book</td>\n",
       "      <td>Message Book, Wirebound, Four 5 1/2\" X 4\" Form...</td>\n",
       "      <td>Consumer</td>\n",
       "      <td>Office Supplies</td>\n",
       "      <td>Paper</td>\n",
       "      <td>Central</td>\n",
       "      <td>Houston</td>\n",
       "      <td>Texas</td>\n",
       "      <td>0.2</td>\n",
       "      <td>5.5512</td>\n",
       "      <td>2</td>\n",
       "      <td>16.448</td>\n",
       "      <td>0.3375</td>\n",
       "      <td>4.0</td>\n",
       "    </tr>\n",
       "    <tr>\n",
       "      <th>1</th>\n",
       "      <td>2019-01-04</td>\n",
       "      <td>2019-01-08</td>\n",
       "      <td>Phillina Ober</td>\n",
       "      <td>GBC</td>\n",
       "      <td>GBC Standard Plastic Binding Systems Combs</td>\n",
       "      <td>Home Office</td>\n",
       "      <td>Office Supplies</td>\n",
       "      <td>Binders</td>\n",
       "      <td>Central</td>\n",
       "      <td>Naperville</td>\n",
       "      <td>Illinois</td>\n",
       "      <td>0.8</td>\n",
       "      <td>-5.4870</td>\n",
       "      <td>2</td>\n",
       "      <td>3.540</td>\n",
       "      <td>-1.5500</td>\n",
       "      <td>4.0</td>\n",
       "    </tr>\n",
       "    <tr>\n",
       "      <th>2</th>\n",
       "      <td>2019-01-04</td>\n",
       "      <td>2019-01-08</td>\n",
       "      <td>Phillina Ober</td>\n",
       "      <td>Avery</td>\n",
       "      <td>Avery 508</td>\n",
       "      <td>Home Office</td>\n",
       "      <td>Office Supplies</td>\n",
       "      <td>Labels</td>\n",
       "      <td>Central</td>\n",
       "      <td>Naperville</td>\n",
       "      <td>Illinois</td>\n",
       "      <td>0.2</td>\n",
       "      <td>4.2717</td>\n",
       "      <td>3</td>\n",
       "      <td>11.784</td>\n",
       "      <td>0.3625</td>\n",
       "      <td>4.0</td>\n",
       "    </tr>\n",
       "    <tr>\n",
       "      <th>3</th>\n",
       "      <td>2019-01-04</td>\n",
       "      <td>2019-01-08</td>\n",
       "      <td>Phillina Ober</td>\n",
       "      <td>SAFCO</td>\n",
       "      <td>SAFCO Boltless Steel Shelving</td>\n",
       "      <td>Home Office</td>\n",
       "      <td>Office Supplies</td>\n",
       "      <td>Storage</td>\n",
       "      <td>Central</td>\n",
       "      <td>Naperville</td>\n",
       "      <td>Illinois</td>\n",
       "      <td>0.2</td>\n",
       "      <td>-64.7748</td>\n",
       "      <td>3</td>\n",
       "      <td>272.736</td>\n",
       "      <td>-0.2375</td>\n",
       "      <td>4.0</td>\n",
       "    </tr>\n",
       "    <tr>\n",
       "      <th>4</th>\n",
       "      <td>2019-01-05</td>\n",
       "      <td>2019-01-12</td>\n",
       "      <td>Mick Brown</td>\n",
       "      <td>Avery</td>\n",
       "      <td>Avery Hi-Liter EverBold Pen Style Fluorescent ...</td>\n",
       "      <td>Consumer</td>\n",
       "      <td>Office Supplies</td>\n",
       "      <td>Art</td>\n",
       "      <td>East</td>\n",
       "      <td>Philadelphia</td>\n",
       "      <td>Pennsylvania</td>\n",
       "      <td>0.2</td>\n",
       "      <td>4.8840</td>\n",
       "      <td>3</td>\n",
       "      <td>19.536</td>\n",
       "      <td>0.2500</td>\n",
       "      <td>7.0</td>\n",
       "    </tr>\n",
       "  </tbody>\n",
       "</table>\n",
       "</div>"
      ],
      "text/plain": [
       "  order_date  ship_date       customer   manufactory  \\\n",
       "0 2019-01-03 2019-01-07  Darren Powers  Message Book   \n",
       "1 2019-01-04 2019-01-08  Phillina Ober           GBC   \n",
       "2 2019-01-04 2019-01-08  Phillina Ober         Avery   \n",
       "3 2019-01-04 2019-01-08  Phillina Ober         SAFCO   \n",
       "4 2019-01-05 2019-01-12     Mick Brown         Avery   \n",
       "\n",
       "                                        product_name      segment  \\\n",
       "0  Message Book, Wirebound, Four 5 1/2\" X 4\" Form...     Consumer   \n",
       "1         GBC Standard Plastic Binding Systems Combs  Home Office   \n",
       "2                                          Avery 508  Home Office   \n",
       "3                      SAFCO Boltless Steel Shelving  Home Office   \n",
       "4  Avery Hi-Liter EverBold Pen Style Fluorescent ...     Consumer   \n",
       "\n",
       "          category subcategory   region          city         state  discount  \\\n",
       "0  Office Supplies       Paper  Central       Houston         Texas       0.2   \n",
       "1  Office Supplies     Binders  Central    Naperville      Illinois       0.8   \n",
       "2  Office Supplies      Labels  Central    Naperville      Illinois       0.2   \n",
       "3  Office Supplies     Storage  Central    Naperville      Illinois       0.2   \n",
       "4  Office Supplies         Art     East  Philadelphia  Pennsylvania       0.2   \n",
       "\n",
       "    profit  quantity    sales  profit_margin  order_process_time  \n",
       "0   5.5512         2   16.448         0.3375                 4.0  \n",
       "1  -5.4870         2    3.540        -1.5500                 4.0  \n",
       "2   4.2717         3   11.784         0.3625                 4.0  \n",
       "3 -64.7748         3  272.736        -0.2375                 4.0  \n",
       "4   4.8840         3   19.536         0.2500                 7.0  "
      ]
     },
     "execution_count": 583,
     "metadata": {},
     "output_type": "execute_result"
    }
   ],
   "source": [
    "df.head()"
   ]
  },
  {
   "cell_type": "markdown",
   "metadata": {},
   "source": [
    "#### Selling Product Price per Unit"
   ]
  },
  {
   "cell_type": "code",
   "execution_count": 585,
   "metadata": {},
   "outputs": [
    {
     "data": {
      "text/plain": [
       "0     8.224\n",
       "1     1.770\n",
       "2     3.928\n",
       "3    90.912\n",
       "4     6.512\n",
       "Name: selling_price_per_unit, dtype: float64"
      ]
     },
     "execution_count": 585,
     "metadata": {},
     "output_type": "execute_result"
    }
   ],
   "source": [
    "# determination of product price per unit\n",
    "df['selling_price_per_unit'] = df['sales'] / df['quantity']\n",
    "df['selling_price_per_unit'].head()"
   ]
  },
  {
   "cell_type": "markdown",
   "metadata": {},
   "source": [
    "#### Discount Amount per Order\n"
   ]
  },
  {
   "cell_type": "code",
   "execution_count": 586,
   "metadata": {},
   "outputs": [
    {
     "data": {
      "text/plain": [
       "0     1.6448\n",
       "1     1.4160\n",
       "2     0.7856\n",
       "3    18.1824\n",
       "4     1.3024\n",
       "Name: discount_per_unit, dtype: float64"
      ]
     },
     "execution_count": 586,
     "metadata": {},
     "output_type": "execute_result"
    }
   ],
   "source": [
    "# determination of discount per unit\n",
    "df['discount_per_unit'] = df['discount'] * df['selling_price_per_unit']\n",
    "df['discount_per_unit'].head()"
   ]
  },
  {
   "cell_type": "markdown",
   "metadata": {},
   "source": [
    "####  product profit per unit\n"
   ]
  },
  {
   "cell_type": "code",
   "execution_count": 587,
   "metadata": {},
   "outputs": [
    {
     "data": {
      "text/plain": [
       "0     2.7756\n",
       "1    -2.7435\n",
       "2     1.4239\n",
       "3   -21.5916\n",
       "4     1.6280\n",
       "Name: profit_per_unit, dtype: float64"
      ]
     },
     "execution_count": 587,
     "metadata": {},
     "output_type": "execute_result"
    }
   ],
   "source": [
    "df['profit_per_unit'] = df['profit'] / df['quantity']\n",
    "df['profit_per_unit'].head()"
   ]
  },
  {
   "cell_type": "markdown",
   "metadata": {},
   "source": [
    "#### cost per unit"
   ]
  },
  {
   "cell_type": "code",
   "execution_count": 588,
   "metadata": {},
   "outputs": [
    {
     "data": {
      "text/plain": [
       "0     3.8036\n",
       "1     3.0975\n",
       "2     1.7185\n",
       "3    94.3212\n",
       "4     3.5816\n",
       "Name: cost_per_unit, dtype: float64"
      ]
     },
     "execution_count": 588,
     "metadata": {},
     "output_type": "execute_result"
    }
   ],
   "source": [
    "# determination of cost per unit\n",
    "df['cost_per_unit'] = df['selling_price_per_unit'] - df['profit_per_unit'] - df['discount_per_unit']\n",
    "df['cost_per_unit'].head()"
   ]
  },
  {
   "cell_type": "code",
   "execution_count": 589,
   "metadata": {},
   "outputs": [
    {
     "name": "stdout",
     "output_type": "stream",
     "text": [
      "<class 'pandas.core.frame.DataFrame'>\n",
      "RangeIndex: 9994 entries, 0 to 9993\n",
      "Data columns (total 21 columns):\n",
      " #   Column                  Non-Null Count  Dtype         \n",
      "---  ------                  --------------  -----         \n",
      " 0   order_date              9994 non-null   datetime64[ns]\n",
      " 1   ship_date               9994 non-null   datetime64[ns]\n",
      " 2   customer                9994 non-null   object        \n",
      " 3   manufactory             9994 non-null   object        \n",
      " 4   product_name            9994 non-null   object        \n",
      " 5   segment                 9994 non-null   object        \n",
      " 6   category                9994 non-null   object        \n",
      " 7   subcategory             9994 non-null   object        \n",
      " 8   region                  9994 non-null   object        \n",
      " 9   city                    9994 non-null   object        \n",
      " 10  state                   9994 non-null   object        \n",
      " 11  discount                9994 non-null   float64       \n",
      " 12  profit                  9994 non-null   float64       \n",
      " 13  quantity                9994 non-null   int64         \n",
      " 14  sales                   9994 non-null   float64       \n",
      " 15  profit_margin           9994 non-null   float64       \n",
      " 16  order_process_time      9994 non-null   float64       \n",
      " 17  selling_price_per_unit  9994 non-null   float64       \n",
      " 18  discount_per_unit       9994 non-null   float64       \n",
      " 19  profit_per_unit         9994 non-null   float64       \n",
      " 20  cost_per_unit           9994 non-null   float64       \n",
      "dtypes: datetime64[ns](2), float64(9), int64(1), object(9)\n",
      "memory usage: 1.6+ MB\n"
     ]
    }
   ],
   "source": [
    "# Preview the loaded data\n",
    "df.info()"
   ]
  },
  {
   "cell_type": "code",
   "execution_count": 590,
   "metadata": {},
   "outputs": [
    {
     "data": {
      "text/plain": [
       "['order_date',\n",
       " 'ship_date',\n",
       " 'customer',\n",
       " 'manufactory',\n",
       " 'product_name',\n",
       " 'segment',\n",
       " 'category',\n",
       " 'subcategory',\n",
       " 'region',\n",
       " 'city',\n",
       " 'state',\n",
       " 'discount',\n",
       " 'profit',\n",
       " 'quantity',\n",
       " 'sales',\n",
       " 'profit_margin',\n",
       " 'order_process_time',\n",
       " 'selling_price_per_unit',\n",
       " 'discount_per_unit',\n",
       " 'profit_per_unit',\n",
       " 'cost_per_unit']"
      ]
     },
     "execution_count": 590,
     "metadata": {},
     "output_type": "execute_result"
    }
   ],
   "source": [
    "df.columns.to_list()    "
   ]
  },
  {
   "cell_type": "markdown",
   "metadata": {},
   "source": [
    "### Data Overview"
   ]
  },
  {
   "cell_type": "code",
   "execution_count": 591,
   "metadata": {},
   "outputs": [
    {
     "data": {
      "text/html": [
       "\n",
       "        <iframe\n",
       "            width=\"100%\"\n",
       "            height=\"475\"\n",
       "            src=\"http://TeSlimMacBookAir.local:40000/dtale/iframe/15\"\n",
       "            frameborder=\"0\"\n",
       "            allowfullscreen\n",
       "            \n",
       "        ></iframe>\n",
       "        "
      ],
      "text/plain": [
       "<IPython.lib.display.IFrame at 0x312e53e80>"
      ]
     },
     "metadata": {},
     "output_type": "display_data"
    },
    {
     "data": {
      "text/plain": []
     },
     "execution_count": 591,
     "metadata": {},
     "output_type": "execute_result"
    }
   ],
   "source": [
    "# Preview the loaded data\n",
    "dt.show(df)"
   ]
  },
  {
   "cell_type": "code",
   "execution_count": 592,
   "metadata": {},
   "outputs": [
    {
     "data": {
      "text/html": [
       "<pre style=\"white-space:pre;overflow-x:auto;line-height:normal;font-family:Menlo,'DejaVu Sans Mono',consolas,'Courier New',monospace\">╭──────────────────────────────────────────────── skimpy summary ─────────────────────────────────────────────────╮\n",
       "│ <span style=\"font-style: italic\">         Data Summary         </span> <span style=\"font-style: italic\">      Data Types       </span>                                                          │\n",
       "│ ┏━━━━━━━━━━━━━━━━━━━┳━━━━━━━━┓ ┏━━━━━━━━━━━━━┳━━━━━━━┓                                                          │\n",
       "│ ┃<span style=\"color: #008080; text-decoration-color: #008080; font-weight: bold\"> dataframe         </span>┃<span style=\"color: #008080; text-decoration-color: #008080; font-weight: bold\"> Values </span>┃ ┃<span style=\"color: #008080; text-decoration-color: #008080; font-weight: bold\"> Column Type </span>┃<span style=\"color: #008080; text-decoration-color: #008080; font-weight: bold\"> Count </span>┃                                                          │\n",
       "│ ┡━━━━━━━━━━━━━━━━━━━╇━━━━━━━━┩ ┡━━━━━━━━━━━━━╇━━━━━━━┩                                                          │\n",
       "│ │ Number of rows    │ 9994   │ │ string      │ 9     │                                                          │\n",
       "│ │ Number of columns │ 21     │ │ float64     │ 9     │                                                          │\n",
       "│ └───────────────────┴────────┘ │ datetime64  │ 2     │                                                          │\n",
       "│                                │ int64       │ 1     │                                                          │\n",
       "│                                └─────────────┴───────┘                                                          │\n",
       "│ <span style=\"font-style: italic\">                                                    number                                                    </span>  │\n",
       "│ ┏━━━━━━━━━━━━━━━━━━━━━━━┳━━━━━┳━━━━━━━┳━━━━━━━━┳━━━━━━━━┳━━━━━━━━┳━━━━━━━━┳━━━━━━━━┳━━━━━━━━┳━━━━━━━┳━━━━━━━━┓  │\n",
       "│ ┃<span style=\"font-weight: bold\"> column_name           </span>┃<span style=\"font-weight: bold\"> NA  </span>┃<span style=\"font-weight: bold\"> NA %  </span>┃<span style=\"font-weight: bold\"> mean   </span>┃<span style=\"font-weight: bold\"> sd     </span>┃<span style=\"font-weight: bold\"> p0     </span>┃<span style=\"font-weight: bold\"> p25    </span>┃<span style=\"font-weight: bold\"> p50    </span>┃<span style=\"font-weight: bold\"> p75    </span>┃<span style=\"font-weight: bold\"> p100  </span>┃<span style=\"font-weight: bold\"> hist   </span>┃  │\n",
       "│ ┡━━━━━━━━━━━━━━━━━━━━━━━╇━━━━━╇━━━━━━━╇━━━━━━━━╇━━━━━━━━╇━━━━━━━━╇━━━━━━━━╇━━━━━━━━╇━━━━━━━━╇━━━━━━━╇━━━━━━━━┩  │\n",
       "│ │ <span style=\"color: #af87ff; text-decoration-color: #af87ff\">discount             </span> │ <span style=\"color: #008080; text-decoration-color: #008080\">  0</span> │ <span style=\"color: #008080; text-decoration-color: #008080\">    0</span> │ <span style=\"color: #008080; text-decoration-color: #008080\">0.1562</span> │ <span style=\"color: #008080; text-decoration-color: #008080\">0.2065</span> │ <span style=\"color: #008080; text-decoration-color: #008080\">     0</span> │ <span style=\"color: #008080; text-decoration-color: #008080\">     0</span> │ <span style=\"color: #008080; text-decoration-color: #008080\">   0.2</span> │ <span style=\"color: #008080; text-decoration-color: #008080\">   0.2</span> │ <span style=\"color: #008080; text-decoration-color: #008080\">  0.8</span> │ <span style=\"color: #008000; text-decoration-color: #008000\">▇▆   ▁</span> │  │\n",
       "│ │ <span style=\"color: #af87ff; text-decoration-color: #af87ff\">profit               </span> │ <span style=\"color: #008080; text-decoration-color: #008080\">  0</span> │ <span style=\"color: #008080; text-decoration-color: #008080\">    0</span> │ <span style=\"color: #008080; text-decoration-color: #008080\"> 28.66</span> │ <span style=\"color: #008080; text-decoration-color: #008080\"> 234.3</span> │ <span style=\"color: #008080; text-decoration-color: #008080\"> -6600</span> │ <span style=\"color: #008080; text-decoration-color: #008080\"> 1.729</span> │ <span style=\"color: #008080; text-decoration-color: #008080\"> 8.666</span> │ <span style=\"color: #008080; text-decoration-color: #008080\"> 29.36</span> │ <span style=\"color: #008080; text-decoration-color: #008080\"> 8400</span> │ <span style=\"color: #008000; text-decoration-color: #008000\">   ▇  </span> │  │\n",
       "│ │ <span style=\"color: #af87ff; text-decoration-color: #af87ff\">quantity             </span> │ <span style=\"color: #008080; text-decoration-color: #008080\">  0</span> │ <span style=\"color: #008080; text-decoration-color: #008080\">    0</span> │ <span style=\"color: #008080; text-decoration-color: #008080\">  3.79</span> │ <span style=\"color: #008080; text-decoration-color: #008080\"> 2.225</span> │ <span style=\"color: #008080; text-decoration-color: #008080\">     1</span> │ <span style=\"color: #008080; text-decoration-color: #008080\">     2</span> │ <span style=\"color: #008080; text-decoration-color: #008080\">     3</span> │ <span style=\"color: #008080; text-decoration-color: #008080\">     5</span> │ <span style=\"color: #008080; text-decoration-color: #008080\">   14</span> │ <span style=\"color: #008000; text-decoration-color: #008000\"> ▇▃▂▁ </span> │  │\n",
       "│ │ <span style=\"color: #af87ff; text-decoration-color: #af87ff\">sales                </span> │ <span style=\"color: #008080; text-decoration-color: #008080\">  0</span> │ <span style=\"color: #008080; text-decoration-color: #008080\">    0</span> │ <span style=\"color: #008080; text-decoration-color: #008080\"> 229.9</span> │ <span style=\"color: #008080; text-decoration-color: #008080\"> 623.2</span> │ <span style=\"color: #008080; text-decoration-color: #008080\"> 0.444</span> │ <span style=\"color: #008080; text-decoration-color: #008080\"> 17.28</span> │ <span style=\"color: #008080; text-decoration-color: #008080\"> 54.49</span> │ <span style=\"color: #008080; text-decoration-color: #008080\"> 209.9</span> │ <span style=\"color: #008080; text-decoration-color: #008080\">22640</span> │ <span style=\"color: #008000; text-decoration-color: #008000\">  ▇   </span> │  │\n",
       "│ │ <span style=\"color: #af87ff; text-decoration-color: #af87ff\">profit_margin        </span> │ <span style=\"color: #008080; text-decoration-color: #008080\">  0</span> │ <span style=\"color: #008080; text-decoration-color: #008080\">    0</span> │ <span style=\"color: #008080; text-decoration-color: #008080\">0.1203</span> │ <span style=\"color: #008080; text-decoration-color: #008080\">0.4668</span> │ <span style=\"color: #008080; text-decoration-color: #008080\"> -2.75</span> │ <span style=\"color: #008080; text-decoration-color: #008080\"> 0.075</span> │ <span style=\"color: #008080; text-decoration-color: #008080\">  0.27</span> │ <span style=\"color: #008080; text-decoration-color: #008080\">0.3625</span> │ <span style=\"color: #008080; text-decoration-color: #008080\">  0.5</span> │ <span style=\"color: #008000; text-decoration-color: #008000\">    ▁▇</span> │  │\n",
       "│ │ <span style=\"color: #af87ff; text-decoration-color: #af87ff\">order_process_time   </span> │ <span style=\"color: #008080; text-decoration-color: #008080\">  0</span> │ <span style=\"color: #008080; text-decoration-color: #008080\">    0</span> │ <span style=\"color: #008080; text-decoration-color: #008080\"> 3.958</span> │ <span style=\"color: #008080; text-decoration-color: #008080\"> 1.748</span> │ <span style=\"color: #008080; text-decoration-color: #008080\">     0</span> │ <span style=\"color: #008080; text-decoration-color: #008080\">     3</span> │ <span style=\"color: #008080; text-decoration-color: #008080\">     4</span> │ <span style=\"color: #008080; text-decoration-color: #008080\">     5</span> │ <span style=\"color: #008080; text-decoration-color: #008080\">    7</span> │ <span style=\"color: #008000; text-decoration-color: #008000\">▃▃▃▇▆▅</span> │  │\n",
       "│ │ <span style=\"color: #af87ff; text-decoration-color: #af87ff\">selling_price_per_uni</span> │ <span style=\"color: #008080; text-decoration-color: #008080\">  0</span> │ <span style=\"color: #008080; text-decoration-color: #008080\">    0</span> │ <span style=\"color: #008080; text-decoration-color: #008080\"> 60.92</span> │ <span style=\"color: #008080; text-decoration-color: #008080\"> 142.9</span> │ <span style=\"color: #008080; text-decoration-color: #008080\"> 0.336</span> │ <span style=\"color: #008080; text-decoration-color: #008080\">  5.47</span> │ <span style=\"color: #008080; text-decoration-color: #008080\"> 16.27</span> │ <span style=\"color: #008080; text-decoration-color: #008080\"> 63.94</span> │ <span style=\"color: #008080; text-decoration-color: #008080\"> 3773</span> │ <span style=\"color: #008000; text-decoration-color: #008000\">  ▇   </span> │  │\n",
       "│ │ <span style=\"color: #af87ff; text-decoration-color: #af87ff\">t                    </span> │     │       │        │        │        │        │        │        │       │        │  │\n",
       "│ │ <span style=\"color: #af87ff; text-decoration-color: #af87ff\">discount_per_unit    </span> │ <span style=\"color: #008080; text-decoration-color: #008080\">  0</span> │ <span style=\"color: #008080; text-decoration-color: #008080\">    0</span> │ <span style=\"color: #008080; text-decoration-color: #008080\"> 8.548</span> │ <span style=\"color: #008080; text-decoration-color: #008080\"> 33.96</span> │ <span style=\"color: #008080; text-decoration-color: #008080\">     0</span> │ <span style=\"color: #008080; text-decoration-color: #008080\">     0</span> │ <span style=\"color: #008080; text-decoration-color: #008080\">0.4608</span> │ <span style=\"color: #008080; text-decoration-color: #008080\"> 4.798</span> │ <span style=\"color: #008080; text-decoration-color: #008080\"> 1887</span> │ <span style=\"color: #008000; text-decoration-color: #008000\">  ▇   </span> │  │\n",
       "│ │ <span style=\"color: #af87ff; text-decoration-color: #af87ff\">profit_per_unit      </span> │ <span style=\"color: #008080; text-decoration-color: #008080\">  0</span> │ <span style=\"color: #008080; text-decoration-color: #008080\">    0</span> │ <span style=\"color: #008080; text-decoration-color: #008080\"> 7.799</span> │ <span style=\"color: #008080; text-decoration-color: #008080\"> 56.07</span> │ <span style=\"color: #008080; text-decoration-color: #008080\"> -1320</span> │ <span style=\"color: #008080; text-decoration-color: #008080\">0.7228</span> │ <span style=\"color: #008080; text-decoration-color: #008080\"> 2.767</span> │ <span style=\"color: #008080; text-decoration-color: #008080\"> 8.703</span> │ <span style=\"color: #008080; text-decoration-color: #008080\"> 1680</span> │ <span style=\"color: #008000; text-decoration-color: #008000\">   ▇  </span> │  │\n",
       "│ │ <span style=\"color: #af87ff; text-decoration-color: #af87ff\">cost_per_unit        </span> │ <span style=\"color: #008080; text-decoration-color: #008080\">  0</span> │ <span style=\"color: #008080; text-decoration-color: #008080\">    0</span> │ <span style=\"color: #008080; text-decoration-color: #008080\"> 44.57</span> │ <span style=\"color: #008080; text-decoration-color: #008080\">  97.7</span> │ <span style=\"color: #008080; text-decoration-color: #008080\">0.3861</span> │ <span style=\"color: #008080; text-decoration-color: #008080\"> 3.267</span> │ <span style=\"color: #008080; text-decoration-color: #008080\"> 10.96</span> │ <span style=\"color: #008080; text-decoration-color: #008080\">  48.5</span> │ <span style=\"color: #008080; text-decoration-color: #008080\"> 2188</span> │ <span style=\"color: #008000; text-decoration-color: #008000\">  ▇   </span> │  │\n",
       "│ └───────────────────────┴─────┴───────┴────────┴────────┴────────┴────────┴────────┴────────┴───────┴────────┘  │\n",
       "│ <span style=\"font-style: italic\">                                                   datetime                                                   </span>  │\n",
       "│ ┏━━━━━━━━━━━━━━━━━━━━━━━━┳━━━━━━━━┳━━━━━━━━━━━┳━━━━━━━━━━━━━━━━━━━━━┳━━━━━━━━━━━━━━━━━━━━━┳━━━━━━━━━━━━━━━━━━┓  │\n",
       "│ ┃<span style=\"font-weight: bold\"> column_name            </span>┃<span style=\"font-weight: bold\"> NA     </span>┃<span style=\"font-weight: bold\"> NA %      </span>┃<span style=\"font-weight: bold\"> first               </span>┃<span style=\"font-weight: bold\"> last                </span>┃<span style=\"font-weight: bold\"> frequency        </span>┃  │\n",
       "│ ┡━━━━━━━━━━━━━━━━━━━━━━━━╇━━━━━━━━╇━━━━━━━━━━━╇━━━━━━━━━━━━━━━━━━━━━╇━━━━━━━━━━━━━━━━━━━━━╇━━━━━━━━━━━━━━━━━━┩  │\n",
       "│ │ <span style=\"color: #af87ff; text-decoration-color: #af87ff\">order_date            </span> │ <span style=\"color: #008080; text-decoration-color: #008080\">     0</span> │ <span style=\"color: #008080; text-decoration-color: #008080\">        0</span> │ <span style=\"color: #800000; text-decoration-color: #800000\">    2019-01-03     </span> │ <span style=\"color: #800000; text-decoration-color: #800000\">    2022-12-30     </span> │ <span style=\"color: #af87ff; text-decoration-color: #af87ff\">None            </span> │  │\n",
       "│ │ <span style=\"color: #af87ff; text-decoration-color: #af87ff\">ship_date             </span> │ <span style=\"color: #008080; text-decoration-color: #008080\">     0</span> │ <span style=\"color: #008080; text-decoration-color: #008080\">        0</span> │ <span style=\"color: #800000; text-decoration-color: #800000\">    2019-01-07     </span> │ <span style=\"color: #800000; text-decoration-color: #800000\">    2023-01-05     </span> │ <span style=\"color: #af87ff; text-decoration-color: #af87ff\">None            </span> │  │\n",
       "│ └────────────────────────┴────────┴───────────┴─────────────────────┴─────────────────────┴──────────────────┘  │\n",
       "│ <span style=\"font-style: italic\">                                                    string                                                    </span>  │\n",
       "│ ┏━━━━━━━━━━━━━━━━━━━━━━━━━━━━┳━━━━━━━━┳━━━━━━━━━━━━┳━━━━━━━━━━━━━━━━━━━━━━━━━━━━━━┳━━━━━━━━━━━━━━━━━━━━━━━━━━┓  │\n",
       "│ ┃<span style=\"font-weight: bold\"> column_name                </span>┃<span style=\"font-weight: bold\"> NA     </span>┃<span style=\"font-weight: bold\"> NA %       </span>┃<span style=\"font-weight: bold\"> words per row                </span>┃<span style=\"font-weight: bold\"> total words              </span>┃  │\n",
       "│ ┡━━━━━━━━━━━━━━━━━━━━━━━━━━━━╇━━━━━━━━╇━━━━━━━━━━━━╇━━━━━━━━━━━━━━━━━━━━━━━━━━━━━━╇━━━━━━━━━━━━━━━━━━━━━━━━━━┩  │\n",
       "│ │ <span style=\"color: #af87ff; text-decoration-color: #af87ff\">customer                  </span> │ <span style=\"color: #008080; text-decoration-color: #008080\">     0</span> │ <span style=\"color: #008080; text-decoration-color: #008080\">         0</span> │ <span style=\"color: #008080; text-decoration-color: #008080\">                           2</span> │ <span style=\"color: #008080; text-decoration-color: #008080\">                   20053</span> │  │\n",
       "│ │ <span style=\"color: #af87ff; text-decoration-color: #af87ff\">manufactory               </span> │ <span style=\"color: #008080; text-decoration-color: #008080\">     0</span> │ <span style=\"color: #008080; text-decoration-color: #008080\">         0</span> │ <span style=\"color: #008080; text-decoration-color: #008080\">                         1.1</span> │ <span style=\"color: #008080; text-decoration-color: #008080\">                   10865</span> │  │\n",
       "│ │ <span style=\"color: #af87ff; text-decoration-color: #af87ff\">product_name              </span> │ <span style=\"color: #008080; text-decoration-color: #008080\">     0</span> │ <span style=\"color: #008080; text-decoration-color: #008080\">         0</span> │ <span style=\"color: #008080; text-decoration-color: #008080\">                         5.6</span> │ <span style=\"color: #008080; text-decoration-color: #008080\">                   55648</span> │  │\n",
       "│ │ <span style=\"color: #af87ff; text-decoration-color: #af87ff\">segment                   </span> │ <span style=\"color: #008080; text-decoration-color: #008080\">     0</span> │ <span style=\"color: #008080; text-decoration-color: #008080\">         0</span> │ <span style=\"color: #008080; text-decoration-color: #008080\">                         1.2</span> │ <span style=\"color: #008080; text-decoration-color: #008080\">                   11777</span> │  │\n",
       "│ │ <span style=\"color: #af87ff; text-decoration-color: #af87ff\">category                  </span> │ <span style=\"color: #008080; text-decoration-color: #008080\">     0</span> │ <span style=\"color: #008080; text-decoration-color: #008080\">         0</span> │ <span style=\"color: #008080; text-decoration-color: #008080\">                         1.6</span> │ <span style=\"color: #008080; text-decoration-color: #008080\">                   16020</span> │  │\n",
       "│ │ <span style=\"color: #af87ff; text-decoration-color: #af87ff\">subcategory               </span> │ <span style=\"color: #008080; text-decoration-color: #008080\">     0</span> │ <span style=\"color: #008080; text-decoration-color: #008080\">         0</span> │ <span style=\"color: #008080; text-decoration-color: #008080\">                           1</span> │ <span style=\"color: #008080; text-decoration-color: #008080\">                    9994</span> │  │\n",
       "│ │ <span style=\"color: #af87ff; text-decoration-color: #af87ff\">region                    </span> │ <span style=\"color: #008080; text-decoration-color: #008080\">     0</span> │ <span style=\"color: #008080; text-decoration-color: #008080\">         0</span> │ <span style=\"color: #008080; text-decoration-color: #008080\">                           1</span> │ <span style=\"color: #008080; text-decoration-color: #008080\">                    9994</span> │  │\n",
       "│ │ <span style=\"color: #af87ff; text-decoration-color: #af87ff\">city                      </span> │ <span style=\"color: #008080; text-decoration-color: #008080\">     0</span> │ <span style=\"color: #008080; text-decoration-color: #008080\">         0</span> │ <span style=\"color: #008080; text-decoration-color: #008080\">                         1.4</span> │ <span style=\"color: #008080; text-decoration-color: #008080\">                   14236</span> │  │\n",
       "│ │ <span style=\"color: #af87ff; text-decoration-color: #af87ff\">state                     </span> │ <span style=\"color: #008080; text-decoration-color: #008080\">     0</span> │ <span style=\"color: #008080; text-decoration-color: #008080\">         0</span> │ <span style=\"color: #008080; text-decoration-color: #008080\">                         1.2</span> │ <span style=\"color: #008080; text-decoration-color: #008080\">                   11706</span> │  │\n",
       "│ └────────────────────────────┴────────┴────────────┴──────────────────────────────┴──────────────────────────┘  │\n",
       "╰────────────────────────────────────────────────────── End ──────────────────────────────────────────────────────╯\n",
       "</pre>\n"
      ],
      "text/plain": [
       "╭──────────────────────────────────────────────── skimpy summary ─────────────────────────────────────────────────╮\n",
       "│ \u001b[3m         Data Summary         \u001b[0m \u001b[3m      Data Types       \u001b[0m                                                          │\n",
       "│ ┏━━━━━━━━━━━━━━━━━━━┳━━━━━━━━┓ ┏━━━━━━━━━━━━━┳━━━━━━━┓                                                          │\n",
       "│ ┃\u001b[1;36m \u001b[0m\u001b[1;36mdataframe        \u001b[0m\u001b[1;36m \u001b[0m┃\u001b[1;36m \u001b[0m\u001b[1;36mValues\u001b[0m\u001b[1;36m \u001b[0m┃ ┃\u001b[1;36m \u001b[0m\u001b[1;36mColumn Type\u001b[0m\u001b[1;36m \u001b[0m┃\u001b[1;36m \u001b[0m\u001b[1;36mCount\u001b[0m\u001b[1;36m \u001b[0m┃                                                          │\n",
       "│ ┡━━━━━━━━━━━━━━━━━━━╇━━━━━━━━┩ ┡━━━━━━━━━━━━━╇━━━━━━━┩                                                          │\n",
       "│ │ Number of rows    │ 9994   │ │ string      │ 9     │                                                          │\n",
       "│ │ Number of columns │ 21     │ │ float64     │ 9     │                                                          │\n",
       "│ └───────────────────┴────────┘ │ datetime64  │ 2     │                                                          │\n",
       "│                                │ int64       │ 1     │                                                          │\n",
       "│                                └─────────────┴───────┘                                                          │\n",
       "│ \u001b[3m                                                    number                                                    \u001b[0m  │\n",
       "│ ┏━━━━━━━━━━━━━━━━━━━━━━━┳━━━━━┳━━━━━━━┳━━━━━━━━┳━━━━━━━━┳━━━━━━━━┳━━━━━━━━┳━━━━━━━━┳━━━━━━━━┳━━━━━━━┳━━━━━━━━┓  │\n",
       "│ ┃\u001b[1m \u001b[0m\u001b[1mcolumn_name          \u001b[0m\u001b[1m \u001b[0m┃\u001b[1m \u001b[0m\u001b[1mNA \u001b[0m\u001b[1m \u001b[0m┃\u001b[1m \u001b[0m\u001b[1mNA % \u001b[0m\u001b[1m \u001b[0m┃\u001b[1m \u001b[0m\u001b[1mmean  \u001b[0m\u001b[1m \u001b[0m┃\u001b[1m \u001b[0m\u001b[1msd    \u001b[0m\u001b[1m \u001b[0m┃\u001b[1m \u001b[0m\u001b[1mp0    \u001b[0m\u001b[1m \u001b[0m┃\u001b[1m \u001b[0m\u001b[1mp25   \u001b[0m\u001b[1m \u001b[0m┃\u001b[1m \u001b[0m\u001b[1mp50   \u001b[0m\u001b[1m \u001b[0m┃\u001b[1m \u001b[0m\u001b[1mp75   \u001b[0m\u001b[1m \u001b[0m┃\u001b[1m \u001b[0m\u001b[1mp100 \u001b[0m\u001b[1m \u001b[0m┃\u001b[1m \u001b[0m\u001b[1mhist  \u001b[0m\u001b[1m \u001b[0m┃  │\n",
       "│ ┡━━━━━━━━━━━━━━━━━━━━━━━╇━━━━━╇━━━━━━━╇━━━━━━━━╇━━━━━━━━╇━━━━━━━━╇━━━━━━━━╇━━━━━━━━╇━━━━━━━━╇━━━━━━━╇━━━━━━━━┩  │\n",
       "│ │ \u001b[38;5;141mdiscount             \u001b[0m │ \u001b[36m  0\u001b[0m │ \u001b[36m    0\u001b[0m │ \u001b[36m0.1562\u001b[0m │ \u001b[36m0.2065\u001b[0m │ \u001b[36m     0\u001b[0m │ \u001b[36m     0\u001b[0m │ \u001b[36m   0.2\u001b[0m │ \u001b[36m   0.2\u001b[0m │ \u001b[36m  0.8\u001b[0m │ \u001b[32m▇▆   ▁\u001b[0m │  │\n",
       "│ │ \u001b[38;5;141mprofit               \u001b[0m │ \u001b[36m  0\u001b[0m │ \u001b[36m    0\u001b[0m │ \u001b[36m 28.66\u001b[0m │ \u001b[36m 234.3\u001b[0m │ \u001b[36m -6600\u001b[0m │ \u001b[36m 1.729\u001b[0m │ \u001b[36m 8.666\u001b[0m │ \u001b[36m 29.36\u001b[0m │ \u001b[36m 8400\u001b[0m │ \u001b[32m   ▇  \u001b[0m │  │\n",
       "│ │ \u001b[38;5;141mquantity             \u001b[0m │ \u001b[36m  0\u001b[0m │ \u001b[36m    0\u001b[0m │ \u001b[36m  3.79\u001b[0m │ \u001b[36m 2.225\u001b[0m │ \u001b[36m     1\u001b[0m │ \u001b[36m     2\u001b[0m │ \u001b[36m     3\u001b[0m │ \u001b[36m     5\u001b[0m │ \u001b[36m   14\u001b[0m │ \u001b[32m ▇▃▂▁ \u001b[0m │  │\n",
       "│ │ \u001b[38;5;141msales                \u001b[0m │ \u001b[36m  0\u001b[0m │ \u001b[36m    0\u001b[0m │ \u001b[36m 229.9\u001b[0m │ \u001b[36m 623.2\u001b[0m │ \u001b[36m 0.444\u001b[0m │ \u001b[36m 17.28\u001b[0m │ \u001b[36m 54.49\u001b[0m │ \u001b[36m 209.9\u001b[0m │ \u001b[36m22640\u001b[0m │ \u001b[32m  ▇   \u001b[0m │  │\n",
       "│ │ \u001b[38;5;141mprofit_margin        \u001b[0m │ \u001b[36m  0\u001b[0m │ \u001b[36m    0\u001b[0m │ \u001b[36m0.1203\u001b[0m │ \u001b[36m0.4668\u001b[0m │ \u001b[36m -2.75\u001b[0m │ \u001b[36m 0.075\u001b[0m │ \u001b[36m  0.27\u001b[0m │ \u001b[36m0.3625\u001b[0m │ \u001b[36m  0.5\u001b[0m │ \u001b[32m    ▁▇\u001b[0m │  │\n",
       "│ │ \u001b[38;5;141morder_process_time   \u001b[0m │ \u001b[36m  0\u001b[0m │ \u001b[36m    0\u001b[0m │ \u001b[36m 3.958\u001b[0m │ \u001b[36m 1.748\u001b[0m │ \u001b[36m     0\u001b[0m │ \u001b[36m     3\u001b[0m │ \u001b[36m     4\u001b[0m │ \u001b[36m     5\u001b[0m │ \u001b[36m    7\u001b[0m │ \u001b[32m▃▃▃▇▆▅\u001b[0m │  │\n",
       "│ │ \u001b[38;5;141mselling_price_per_uni\u001b[0m │ \u001b[36m  0\u001b[0m │ \u001b[36m    0\u001b[0m │ \u001b[36m 60.92\u001b[0m │ \u001b[36m 142.9\u001b[0m │ \u001b[36m 0.336\u001b[0m │ \u001b[36m  5.47\u001b[0m │ \u001b[36m 16.27\u001b[0m │ \u001b[36m 63.94\u001b[0m │ \u001b[36m 3773\u001b[0m │ \u001b[32m  ▇   \u001b[0m │  │\n",
       "│ │ \u001b[38;5;141mt                    \u001b[0m │     │       │        │        │        │        │        │        │       │        │  │\n",
       "│ │ \u001b[38;5;141mdiscount_per_unit    \u001b[0m │ \u001b[36m  0\u001b[0m │ \u001b[36m    0\u001b[0m │ \u001b[36m 8.548\u001b[0m │ \u001b[36m 33.96\u001b[0m │ \u001b[36m     0\u001b[0m │ \u001b[36m     0\u001b[0m │ \u001b[36m0.4608\u001b[0m │ \u001b[36m 4.798\u001b[0m │ \u001b[36m 1887\u001b[0m │ \u001b[32m  ▇   \u001b[0m │  │\n",
       "│ │ \u001b[38;5;141mprofit_per_unit      \u001b[0m │ \u001b[36m  0\u001b[0m │ \u001b[36m    0\u001b[0m │ \u001b[36m 7.799\u001b[0m │ \u001b[36m 56.07\u001b[0m │ \u001b[36m -1320\u001b[0m │ \u001b[36m0.7228\u001b[0m │ \u001b[36m 2.767\u001b[0m │ \u001b[36m 8.703\u001b[0m │ \u001b[36m 1680\u001b[0m │ \u001b[32m   ▇  \u001b[0m │  │\n",
       "│ │ \u001b[38;5;141mcost_per_unit        \u001b[0m │ \u001b[36m  0\u001b[0m │ \u001b[36m    0\u001b[0m │ \u001b[36m 44.57\u001b[0m │ \u001b[36m  97.7\u001b[0m │ \u001b[36m0.3861\u001b[0m │ \u001b[36m 3.267\u001b[0m │ \u001b[36m 10.96\u001b[0m │ \u001b[36m  48.5\u001b[0m │ \u001b[36m 2188\u001b[0m │ \u001b[32m  ▇   \u001b[0m │  │\n",
       "│ └───────────────────────┴─────┴───────┴────────┴────────┴────────┴────────┴────────┴────────┴───────┴────────┘  │\n",
       "│ \u001b[3m                                                   datetime                                                   \u001b[0m  │\n",
       "│ ┏━━━━━━━━━━━━━━━━━━━━━━━━┳━━━━━━━━┳━━━━━━━━━━━┳━━━━━━━━━━━━━━━━━━━━━┳━━━━━━━━━━━━━━━━━━━━━┳━━━━━━━━━━━━━━━━━━┓  │\n",
       "│ ┃\u001b[1m \u001b[0m\u001b[1mcolumn_name           \u001b[0m\u001b[1m \u001b[0m┃\u001b[1m \u001b[0m\u001b[1mNA    \u001b[0m\u001b[1m \u001b[0m┃\u001b[1m \u001b[0m\u001b[1mNA %     \u001b[0m\u001b[1m \u001b[0m┃\u001b[1m \u001b[0m\u001b[1mfirst              \u001b[0m\u001b[1m \u001b[0m┃\u001b[1m \u001b[0m\u001b[1mlast               \u001b[0m\u001b[1m \u001b[0m┃\u001b[1m \u001b[0m\u001b[1mfrequency       \u001b[0m\u001b[1m \u001b[0m┃  │\n",
       "│ ┡━━━━━━━━━━━━━━━━━━━━━━━━╇━━━━━━━━╇━━━━━━━━━━━╇━━━━━━━━━━━━━━━━━━━━━╇━━━━━━━━━━━━━━━━━━━━━╇━━━━━━━━━━━━━━━━━━┩  │\n",
       "│ │ \u001b[38;5;141morder_date            \u001b[0m │ \u001b[36m     0\u001b[0m │ \u001b[36m        0\u001b[0m │ \u001b[31m    2019-01-03     \u001b[0m │ \u001b[31m    2022-12-30     \u001b[0m │ \u001b[38;5;141mNone            \u001b[0m │  │\n",
       "│ │ \u001b[38;5;141mship_date             \u001b[0m │ \u001b[36m     0\u001b[0m │ \u001b[36m        0\u001b[0m │ \u001b[31m    2019-01-07     \u001b[0m │ \u001b[31m    2023-01-05     \u001b[0m │ \u001b[38;5;141mNone            \u001b[0m │  │\n",
       "│ └────────────────────────┴────────┴───────────┴─────────────────────┴─────────────────────┴──────────────────┘  │\n",
       "│ \u001b[3m                                                    string                                                    \u001b[0m  │\n",
       "│ ┏━━━━━━━━━━━━━━━━━━━━━━━━━━━━┳━━━━━━━━┳━━━━━━━━━━━━┳━━━━━━━━━━━━━━━━━━━━━━━━━━━━━━┳━━━━━━━━━━━━━━━━━━━━━━━━━━┓  │\n",
       "│ ┃\u001b[1m \u001b[0m\u001b[1mcolumn_name               \u001b[0m\u001b[1m \u001b[0m┃\u001b[1m \u001b[0m\u001b[1mNA    \u001b[0m\u001b[1m \u001b[0m┃\u001b[1m \u001b[0m\u001b[1mNA %      \u001b[0m\u001b[1m \u001b[0m┃\u001b[1m \u001b[0m\u001b[1mwords per row               \u001b[0m\u001b[1m \u001b[0m┃\u001b[1m \u001b[0m\u001b[1mtotal words             \u001b[0m\u001b[1m \u001b[0m┃  │\n",
       "│ ┡━━━━━━━━━━━━━━━━━━━━━━━━━━━━╇━━━━━━━━╇━━━━━━━━━━━━╇━━━━━━━━━━━━━━━━━━━━━━━━━━━━━━╇━━━━━━━━━━━━━━━━━━━━━━━━━━┩  │\n",
       "│ │ \u001b[38;5;141mcustomer                  \u001b[0m │ \u001b[36m     0\u001b[0m │ \u001b[36m         0\u001b[0m │ \u001b[36m                           2\u001b[0m │ \u001b[36m                   20053\u001b[0m │  │\n",
       "│ │ \u001b[38;5;141mmanufactory               \u001b[0m │ \u001b[36m     0\u001b[0m │ \u001b[36m         0\u001b[0m │ \u001b[36m                         1.1\u001b[0m │ \u001b[36m                   10865\u001b[0m │  │\n",
       "│ │ \u001b[38;5;141mproduct_name              \u001b[0m │ \u001b[36m     0\u001b[0m │ \u001b[36m         0\u001b[0m │ \u001b[36m                         5.6\u001b[0m │ \u001b[36m                   55648\u001b[0m │  │\n",
       "│ │ \u001b[38;5;141msegment                   \u001b[0m │ \u001b[36m     0\u001b[0m │ \u001b[36m         0\u001b[0m │ \u001b[36m                         1.2\u001b[0m │ \u001b[36m                   11777\u001b[0m │  │\n",
       "│ │ \u001b[38;5;141mcategory                  \u001b[0m │ \u001b[36m     0\u001b[0m │ \u001b[36m         0\u001b[0m │ \u001b[36m                         1.6\u001b[0m │ \u001b[36m                   16020\u001b[0m │  │\n",
       "│ │ \u001b[38;5;141msubcategory               \u001b[0m │ \u001b[36m     0\u001b[0m │ \u001b[36m         0\u001b[0m │ \u001b[36m                           1\u001b[0m │ \u001b[36m                    9994\u001b[0m │  │\n",
       "│ │ \u001b[38;5;141mregion                    \u001b[0m │ \u001b[36m     0\u001b[0m │ \u001b[36m         0\u001b[0m │ \u001b[36m                           1\u001b[0m │ \u001b[36m                    9994\u001b[0m │  │\n",
       "│ │ \u001b[38;5;141mcity                      \u001b[0m │ \u001b[36m     0\u001b[0m │ \u001b[36m         0\u001b[0m │ \u001b[36m                         1.4\u001b[0m │ \u001b[36m                   14236\u001b[0m │  │\n",
       "│ │ \u001b[38;5;141mstate                     \u001b[0m │ \u001b[36m     0\u001b[0m │ \u001b[36m         0\u001b[0m │ \u001b[36m                         1.2\u001b[0m │ \u001b[36m                   11706\u001b[0m │  │\n",
       "│ └────────────────────────────┴────────┴────────────┴──────────────────────────────┴──────────────────────────┘  │\n",
       "╰────────────────────────────────────────────────────── End ──────────────────────────────────────────────────────╯\n"
      ]
     },
     "metadata": {},
     "output_type": "display_data"
    }
   ],
   "source": [
    "# summary statistics of the dataframe \n",
    "sp.skim(df)"
   ]
  },
  {
   "cell_type": "markdown",
   "metadata": {},
   "source": [
    "### indentify categorical and numerical columns"
   ]
  },
  {
   "cell_type": "code",
   "execution_count": 593,
   "metadata": {},
   "outputs": [
    {
     "data": {
      "text/plain": [
       "['discount',\n",
       " 'profit',\n",
       " 'quantity',\n",
       " 'sales',\n",
       " 'profit_margin',\n",
       " 'order_process_time',\n",
       " 'selling_price_per_unit',\n",
       " 'discount_per_unit',\n",
       " 'profit_per_unit',\n",
       " 'cost_per_unit']"
      ]
     },
     "execution_count": 593,
     "metadata": {},
     "output_type": "execute_result"
    }
   ],
   "source": [
    "# collection of the numerical columns\n",
    "numerical_columns = df.select_dtypes(include=[np.number]).columns.tolist()\n",
    "numerical_columns\n"
   ]
  },
  {
   "cell_type": "code",
   "execution_count": 594,
   "metadata": {},
   "outputs": [
    {
     "data": {
      "text/plain": [
       "['customer',\n",
       " 'manufactory',\n",
       " 'product_name',\n",
       " 'segment',\n",
       " 'category',\n",
       " 'subcategory',\n",
       " 'region',\n",
       " 'city',\n",
       " 'state']"
      ]
     },
     "execution_count": 594,
     "metadata": {},
     "output_type": "execute_result"
    }
   ],
   "source": [
    "# collection of categorical columns\n",
    "categorical_columns = df.select_dtypes(include=['object']).columns.to_list()\n",
    "categorical_columns\n"
   ]
  },
  {
   "cell_type": "markdown",
   "metadata": {},
   "source": [
    "## Section 2: Exploratory Data Analysis\n",
    "___"
   ]
  },
  {
   "cell_type": "markdown",
   "metadata": {},
   "source": [
    "### Explanatory of categorical columns"
   ]
  },
  {
   "cell_type": "code",
   "execution_count": 595,
   "metadata": {},
   "outputs": [
    {
     "data": {
      "text/plain": [
       "customer         793\n",
       "manufactory      182\n",
       "product_name    1849\n",
       "segment            3\n",
       "category           3\n",
       "subcategory       17\n",
       "region             4\n",
       "city             531\n",
       "state             49\n",
       "dtype: int64"
      ]
     },
     "execution_count": 595,
     "metadata": {},
     "output_type": "execute_result"
    }
   ],
   "source": [
    "# checking the unique count of the categorical columns \n",
    "df[categorical_columns].nunique()"
   ]
  },
  {
   "cell_type": "markdown",
   "metadata": {},
   "source": [
    "### Explanatory of numerical columns"
   ]
  },
  {
   "cell_type": "code",
   "execution_count": 596,
   "metadata": {},
   "outputs": [
    {
     "data": {
      "text/html": [
       "<div>\n",
       "<style scoped>\n",
       "    .dataframe tbody tr th:only-of-type {\n",
       "        vertical-align: middle;\n",
       "    }\n",
       "\n",
       "    .dataframe tbody tr th {\n",
       "        vertical-align: top;\n",
       "    }\n",
       "\n",
       "    .dataframe thead th {\n",
       "        text-align: right;\n",
       "    }\n",
       "</style>\n",
       "<table border=\"1\" class=\"dataframe\">\n",
       "  <thead>\n",
       "    <tr style=\"text-align: right;\">\n",
       "      <th></th>\n",
       "      <th>discount</th>\n",
       "      <th>profit</th>\n",
       "      <th>quantity</th>\n",
       "      <th>sales</th>\n",
       "      <th>profit_margin</th>\n",
       "      <th>order_process_time</th>\n",
       "      <th>selling_price_per_unit</th>\n",
       "      <th>discount_per_unit</th>\n",
       "      <th>profit_per_unit</th>\n",
       "      <th>cost_per_unit</th>\n",
       "    </tr>\n",
       "  </thead>\n",
       "  <tbody>\n",
       "    <tr>\n",
       "      <th>count</th>\n",
       "      <td>9994.000000</td>\n",
       "      <td>9994.000000</td>\n",
       "      <td>9994.000000</td>\n",
       "      <td>9994.000000</td>\n",
       "      <td>9994.000000</td>\n",
       "      <td>9994.000000</td>\n",
       "      <td>9994.000000</td>\n",
       "      <td>9994.000000</td>\n",
       "      <td>9994.000000</td>\n",
       "      <td>9994.000000</td>\n",
       "    </tr>\n",
       "    <tr>\n",
       "      <th>mean</th>\n",
       "      <td>0.156203</td>\n",
       "      <td>28.656896</td>\n",
       "      <td>3.789574</td>\n",
       "      <td>229.858001</td>\n",
       "      <td>0.120314</td>\n",
       "      <td>3.958475</td>\n",
       "      <td>60.919569</td>\n",
       "      <td>8.547946</td>\n",
       "      <td>7.799372</td>\n",
       "      <td>44.572251</td>\n",
       "    </tr>\n",
       "    <tr>\n",
       "      <th>std</th>\n",
       "      <td>0.206452</td>\n",
       "      <td>234.260108</td>\n",
       "      <td>2.225110</td>\n",
       "      <td>623.245101</td>\n",
       "      <td>0.466754</td>\n",
       "      <td>1.747603</td>\n",
       "      <td>142.927440</td>\n",
       "      <td>33.958865</td>\n",
       "      <td>56.074974</td>\n",
       "      <td>97.698409</td>\n",
       "    </tr>\n",
       "    <tr>\n",
       "      <th>min</th>\n",
       "      <td>0.000000</td>\n",
       "      <td>-6599.978000</td>\n",
       "      <td>1.000000</td>\n",
       "      <td>0.444000</td>\n",
       "      <td>-2.750000</td>\n",
       "      <td>0.000000</td>\n",
       "      <td>0.336000</td>\n",
       "      <td>0.000000</td>\n",
       "      <td>-1319.995600</td>\n",
       "      <td>0.386100</td>\n",
       "    </tr>\n",
       "    <tr>\n",
       "      <th>25%</th>\n",
       "      <td>0.000000</td>\n",
       "      <td>1.728750</td>\n",
       "      <td>2.000000</td>\n",
       "      <td>17.280000</td>\n",
       "      <td>0.075000</td>\n",
       "      <td>3.000000</td>\n",
       "      <td>5.470000</td>\n",
       "      <td>0.000000</td>\n",
       "      <td>0.722800</td>\n",
       "      <td>3.267000</td>\n",
       "    </tr>\n",
       "    <tr>\n",
       "      <th>50%</th>\n",
       "      <td>0.200000</td>\n",
       "      <td>8.666500</td>\n",
       "      <td>3.000000</td>\n",
       "      <td>54.490000</td>\n",
       "      <td>0.270000</td>\n",
       "      <td>4.000000</td>\n",
       "      <td>16.270000</td>\n",
       "      <td>0.460800</td>\n",
       "      <td>2.767000</td>\n",
       "      <td>10.956900</td>\n",
       "    </tr>\n",
       "    <tr>\n",
       "      <th>75%</th>\n",
       "      <td>0.200000</td>\n",
       "      <td>29.364000</td>\n",
       "      <td>5.000000</td>\n",
       "      <td>209.940000</td>\n",
       "      <td>0.362500</td>\n",
       "      <td>5.000000</td>\n",
       "      <td>63.940000</td>\n",
       "      <td>4.798400</td>\n",
       "      <td>8.703200</td>\n",
       "      <td>48.500400</td>\n",
       "    </tr>\n",
       "    <tr>\n",
       "      <th>max</th>\n",
       "      <td>0.800000</td>\n",
       "      <td>8399.976000</td>\n",
       "      <td>14.000000</td>\n",
       "      <td>22638.480000</td>\n",
       "      <td>0.500000</td>\n",
       "      <td>7.000000</td>\n",
       "      <td>3773.080000</td>\n",
       "      <td>1886.540000</td>\n",
       "      <td>1679.995200</td>\n",
       "      <td>2188.386400</td>\n",
       "    </tr>\n",
       "  </tbody>\n",
       "</table>\n",
       "</div>"
      ],
      "text/plain": [
       "          discount       profit     quantity         sales  profit_margin  \\\n",
       "count  9994.000000  9994.000000  9994.000000   9994.000000    9994.000000   \n",
       "mean      0.156203    28.656896     3.789574    229.858001       0.120314   \n",
       "std       0.206452   234.260108     2.225110    623.245101       0.466754   \n",
       "min       0.000000 -6599.978000     1.000000      0.444000      -2.750000   \n",
       "25%       0.000000     1.728750     2.000000     17.280000       0.075000   \n",
       "50%       0.200000     8.666500     3.000000     54.490000       0.270000   \n",
       "75%       0.200000    29.364000     5.000000    209.940000       0.362500   \n",
       "max       0.800000  8399.976000    14.000000  22638.480000       0.500000   \n",
       "\n",
       "       order_process_time  selling_price_per_unit  discount_per_unit  \\\n",
       "count         9994.000000             9994.000000        9994.000000   \n",
       "mean             3.958475               60.919569           8.547946   \n",
       "std              1.747603              142.927440          33.958865   \n",
       "min              0.000000                0.336000           0.000000   \n",
       "25%              3.000000                5.470000           0.000000   \n",
       "50%              4.000000               16.270000           0.460800   \n",
       "75%              5.000000               63.940000           4.798400   \n",
       "max              7.000000             3773.080000        1886.540000   \n",
       "\n",
       "       profit_per_unit  cost_per_unit  \n",
       "count      9994.000000    9994.000000  \n",
       "mean          7.799372      44.572251  \n",
       "std          56.074974      97.698409  \n",
       "min       -1319.995600       0.386100  \n",
       "25%           0.722800       3.267000  \n",
       "50%           2.767000      10.956900  \n",
       "75%           8.703200      48.500400  \n",
       "max        1679.995200    2188.386400  "
      ]
     },
     "execution_count": 596,
     "metadata": {},
     "output_type": "execute_result"
    }
   ],
   "source": [
    "# check the summary of the numerical columns\n",
    "df[numerical_columns].describe()"
   ]
  },
  {
   "cell_type": "code",
   "execution_count": 597,
   "metadata": {},
   "outputs": [
    {
     "data": {
      "image/png": "[encoded data removed]",
      "text/plain": [
       "<Figure size 1000x800 with 2 Axes>"
      ]
     },
     "metadata": {},
     "output_type": "display_data"
    }
   ],
   "source": [
    "# Analyzing the numerical columns\n",
    "correlation = df[numerical_columns].corr()\n",
    "plt.figure(figsize=(10,8))\n",
    "sns.heatmap(correlation, annot=True, cmap=\"coolwarm\")\n",
    "plt.show()"
   ]
  },
  {
   "cell_type": "code",
   "execution_count": 598,
   "metadata": {},
   "outputs": [
    {
     "data": {
      "image/png": "[encoded data removed]",
      "text/plain": [
       "<Figure size 2000x1000 with 12 Axes>"
      ]
     },
     "metadata": {},
     "output_type": "display_data"
    }
   ],
   "source": [
    "# understanding the distribution of the numerical columns\n",
    "df[numerical_columns].hist(figsize=(20, 10), bins=20, xlabelsize=8, ylabelsize=8)\n",
    "plt.show()"
   ]
  },
  {
   "cell_type": "markdown",
   "metadata": {},
   "source": [
    "### Normalising the target variable "
   ]
  },
  {
   "cell_type": "code",
   "execution_count": 599,
   "metadata": {},
   "outputs": [
    {
     "data": {
      "image/png": "[encoded data removed]",
      "text/plain": [
       "<Figure size 640x480 with 1 Axes>"
      ]
     },
     "metadata": {},
     "output_type": "display_data"
    }
   ],
   "source": [
    "sns.histplot(df['sales'], kde=True)\n",
    "plt.show()"
   ]
  },
  {
   "cell_type": "code",
   "execution_count": 600,
   "metadata": {},
   "outputs": [
    {
     "data": {
      "text/plain": [
       "<Axes: xlabel='sales', ylabel='Count'>"
      ]
     },
     "execution_count": 600,
     "metadata": {},
     "output_type": "execute_result"
    },
    {
     "data": {
      "image/png": "[encoded data removed]",
      "text/plain": [
       "<Figure size 640x480 with 1 Axes>"
      ]
     },
     "metadata": {},
     "output_type": "display_data"
    }
   ],
   "source": [
    "sns.histplot(df.sales, bins=50, kde=True)"
   ]
  },
  {
   "cell_type": "code",
   "execution_count": 601,
   "metadata": {},
   "outputs": [
    {
     "data": {
      "text/plain": [
       "<Axes: xlabel='sales', ylabel='Count'>"
      ]
     },
     "execution_count": 601,
     "metadata": {},
     "output_type": "execute_result"
    },
    {
     "data": {
      "image/png": "[encoded data removed]",
      "text/plain": [
       "<Figure size 640x480 with 1 Axes>"
      ]
     },
     "metadata": {},
     "output_type": "display_data"
    }
   ],
   "source": [
    "sns.histplot(df.sales[df.sales < 1000], bins=50, kde=True)"
   ]
  },
  {
   "cell_type": "code",
   "execution_count": 602,
   "metadata": {},
   "outputs": [],
   "source": [
    "# using the log scale to plot the histogram\n",
    "sales_logs = np.log1p(df.sales)"
   ]
  },
  {
   "cell_type": "code",
   "execution_count": 603,
   "metadata": {},
   "outputs": [
    {
     "data": {
      "text/plain": [
       "<Axes: xlabel='sales', ylabel='Count'>"
      ]
     },
     "execution_count": 603,
     "metadata": {},
     "output_type": "execute_result"
    },
    {
     "data": {
      "image/png": "[encoded data removed]",
      "text/plain": [
       "<Figure size 640x480 with 1 Axes>"
      ]
     },
     "metadata": {},
     "output_type": "display_data"
    }
   ],
   "source": [
    "# Checking the histogram of the price_logs\n",
    "sns.histplot(sales_logs, bins=50, kde=True)"
   ]
  },
  {
   "cell_type": "markdown",
   "metadata": {},
   "source": [
    "## Section 3: Validation Framework\n",
    "___"
   ]
  },
  {
   "cell_type": "markdown",
   "metadata": {},
   "source": [
    "### Splitting the data into training and testing sets"
   ]
  },
  {
   "cell_type": "code",
   "execution_count": 628,
   "metadata": {},
   "outputs": [],
   "source": [
    "from sklearn.model_selection import train_test_split"
   ]
  },
  {
   "cell_type": "code",
   "execution_count": 634,
   "metadata": {},
   "outputs": [],
   "source": [
    "# splitting the data into training and testing\n",
    "df_train_full, df_test = train_test_split(df, test_size=0.2, random_state=8)\n",
    "\n",
    "# splitting the training data into training and validation\n",
    "df_train, df_val = train_test_split(df_train_full, test_size=0.25, random_state=8)"
   ]
  },
  {
   "cell_type": "code",
   "execution_count": 635,
   "metadata": {},
   "outputs": [
    {
     "data": {
      "text/plain": [
       "(5996, 1999, 1999)"
      ]
     },
     "execution_count": 635,
     "metadata": {},
     "output_type": "execute_result"
    }
   ],
   "source": [
    "# checking the length of the data\n",
    "len(df_train), len(df_val), len(df_test)"
   ]
  },
  {
   "cell_type": "code",
   "execution_count": 636,
   "metadata": {},
   "outputs": [],
   "source": [
    "# reseting the index after splitting \n",
    "df_train_full = df_train_full.reset_index(drop=True)\n",
    "df_train = df_train.reset_index(drop=True)\n",
    "df_val = df_val.reset_index(drop=True)\n",
    "df_test = df_test.reset_index(drop=True)"
   ]
  },
  {
   "cell_type": "code",
   "execution_count": 637,
   "metadata": {},
   "outputs": [],
   "source": [
    "# assigning the target variables to the y_train and y_val\n",
    "y_train = df_train.sales.values\n",
    "y_val = df_val.sales.values\n",
    "y_test = df_test.sales.values"
   ]
  },
  {
   "cell_type": "code",
   "execution_count": 638,
   "metadata": {},
   "outputs": [],
   "source": [
    "# deleting the target variables from the data\n",
    "del df_train['sales']\n",
    "del df_val['sales']\n",
    "del df_test['sales']"
   ]
  },
  {
   "cell_type": "code",
   "execution_count": 639,
   "metadata": {},
   "outputs": [
    {
     "data": {
      "text/plain": [
       "((5996, 20), (1999, 20), (1999, 20))"
      ]
     },
     "execution_count": 639,
     "metadata": {},
     "output_type": "execute_result"
    }
   ],
   "source": [
    "df_train.shape, df_val.shape, df_test.shape"
   ]
  },
  {
   "cell_type": "code",
   "execution_count": 615,
   "metadata": {},
   "outputs": [
    {
     "data": {
      "text/plain": [
       "['order_date',\n",
       " 'ship_date',\n",
       " 'customer',\n",
       " 'manufactory',\n",
       " 'product_name',\n",
       " 'segment',\n",
       " 'category',\n",
       " 'subcategory',\n",
       " 'region',\n",
       " 'city',\n",
       " 'state',\n",
       " 'discount',\n",
       " 'profit',\n",
       " 'quantity',\n",
       " 'sales',\n",
       " 'profit_margin',\n",
       " 'order_process_time',\n",
       " 'selling_price_per_unit',\n",
       " 'discount_per_unit',\n",
       " 'profit_per_unit',\n",
       " 'cost_per_unit']"
      ]
     },
     "execution_count": 615,
     "metadata": {},
     "output_type": "execute_result"
    }
   ],
   "source": [
    "df_train_full.columns.to_list()"
   ]
  },
  {
   "cell_type": "code",
   "execution_count": 616,
   "metadata": {},
   "outputs": [
    {
     "name": "stdout",
     "output_type": "stream",
     "text": [
      "<class 'pandas.core.frame.DataFrame'>\n",
      "RangeIndex: 5996 entries, 0 to 5995\n",
      "Data columns (total 20 columns):\n",
      " #   Column                  Non-Null Count  Dtype         \n",
      "---  ------                  --------------  -----         \n",
      " 0   order_date              5996 non-null   datetime64[ns]\n",
      " 1   ship_date               5996 non-null   datetime64[ns]\n",
      " 2   customer                5996 non-null   object        \n",
      " 3   manufactory             5996 non-null   object        \n",
      " 4   product_name            5996 non-null   object        \n",
      " 5   segment                 5996 non-null   object        \n",
      " 6   category                5996 non-null   object        \n",
      " 7   subcategory             5996 non-null   object        \n",
      " 8   region                  5996 non-null   object        \n",
      " 9   city                    5996 non-null   object        \n",
      " 10  state                   5996 non-null   object        \n",
      " 11  discount                5996 non-null   float64       \n",
      " 12  profit                  5996 non-null   float64       \n",
      " 13  quantity                5996 non-null   int64         \n",
      " 14  profit_margin           5996 non-null   float64       \n",
      " 15  order_process_time      5996 non-null   float64       \n",
      " 16  selling_price_per_unit  5996 non-null   float64       \n",
      " 17  discount_per_unit       5996 non-null   float64       \n",
      " 18  profit_per_unit         5996 non-null   float64       \n",
      " 19  cost_per_unit           5996 non-null   float64       \n",
      "dtypes: datetime64[ns](2), float64(8), int64(1), object(9)\n",
      "memory usage: 937.0+ KB\n"
     ]
    }
   ],
   "source": [
    "df_train.info()"
   ]
  },
  {
   "cell_type": "code",
   "execution_count": 617,
   "metadata": {},
   "outputs": [],
   "source": [
    "# defining the numerical columns for the model\n",
    "\n",
    "numerical_features = [ \n",
    " 'quantity',\n",
    " 'order_process_time',\n",
    " 'selling_price_per_unit',\n",
    " 'discount_per_unit',\n",
    " 'profit_per_unit',\n",
    " 'cost_per_unit']\n"
   ]
  },
  {
   "cell_type": "code",
   "execution_count": 618,
   "metadata": {},
   "outputs": [],
   "source": [
    "X_train = df_train[numerical_features]\n",
    "X_val = df_val[numerical_features]\n",
    "X_test = df_test[numerical_features]"
   ]
  },
  {
   "cell_type": "code",
   "execution_count": 619,
   "metadata": {},
   "outputs": [
    {
     "data": {
      "text/plain": [
       "array([[ 3.    ,  2.    ,  4.13  ,  0.    ,  1.9411,  2.1889],\n",
       "       [ 7.    ,  4.    , 28.03  ,  0.    , 14.015 , 14.015 ],\n",
       "       [ 5.    ,  5.    ,  5.985 ,  4.1895, -4.389 ,  6.1845],\n",
       "       ...,\n",
       "       [ 6.    ,  4.    ,  6.48  ,  0.    ,  3.1104,  3.3696],\n",
       "       [10.    ,  2.    ,  1.122 ,  0.7854, -0.748 ,  1.0846],\n",
       "       [ 4.    ,  4.    ,  1.473 ,  1.0311, -1.0311,  1.473 ]])"
      ]
     },
     "execution_count": 619,
     "metadata": {},
     "output_type": "execute_result"
    }
   ],
   "source": [
    "X_train.values\n",
    "X_val.values\n",
    "X_test.values"
   ]
  },
  {
   "cell_type": "markdown",
   "metadata": {},
   "source": [
    "# Section 4: Building and Training the Model\n",
    "___"
   ]
  },
  {
   "cell_type": "markdown",
   "metadata": {},
   "source": [
    "### Building the model"
   ]
  },
  {
   "cell_type": "code",
   "execution_count": 620,
   "metadata": {},
   "outputs": [],
   "source": [
    "from sklearn.linear_model import LinearRegression\n",
    "model = LinearRegression()"
   ]
  },
  {
   "cell_type": "markdown",
   "metadata": {},
   "source": [
    "### Training the model"
   ]
  },
  {
   "cell_type": "code",
   "execution_count": 621,
   "metadata": {},
   "outputs": [
    {
     "data": {
      "text/html": [
       "<style>#sk-container-id-1 {\n",
       "  /* Definition of color scheme common for light and dark mode */\n",
       "  --sklearn-color-text: black;\n",
       "  --sklearn-color-line: gray;\n",
       "  /* Definition of color scheme for unfitted estimators */\n",
       "  --sklearn-color-unfitted-level-0: #fff5e6;\n",
       "  --sklearn-color-unfitted-level-1: #f6e4d2;\n",
       "  --sklearn-color-unfitted-level-2: #ffe0b3;\n",
       "  --sklearn-color-unfitted-level-3: chocolate;\n",
       "  /* Definition of color scheme for fitted estimators */\n",
       "  --sklearn-color-fitted-level-0: #f0f8ff;\n",
       "  --sklearn-color-fitted-level-1: #d4ebff;\n",
       "  --sklearn-color-fitted-level-2: #b3dbfd;\n",
       "  --sklearn-color-fitted-level-3: cornflowerblue;\n",
       "\n",
       "  /* Specific color for light theme */\n",
       "  --sklearn-color-text-on-default-background: var(--sg-text-color, var(--theme-code-foreground, var(--jp-content-font-color1, black)));\n",
       "  --sklearn-color-background: var(--sg-background-color, var(--theme-background, var(--jp-layout-color0, white)));\n",
       "  --sklearn-color-border-box: var(--sg-text-color, var(--theme-code-foreground, var(--jp-content-font-color1, black)));\n",
       "  --sklearn-color-icon: #696969;\n",
       "\n",
       "  @media (prefers-color-scheme: dark) {\n",
       "    /* Redefinition of color scheme for dark theme */\n",
       "    --sklearn-color-text-on-default-background: var(--sg-text-color, var(--theme-code-foreground, var(--jp-content-font-color1, white)));\n",
       "    --sklearn-color-background: var(--sg-background-color, var(--theme-background, var(--jp-layout-color0, #111)));\n",
       "    --sklearn-color-border-box: var(--sg-text-color, var(--theme-code-foreground, var(--jp-content-font-color1, white)));\n",
       "    --sklearn-color-icon: #878787;\n",
       "  }\n",
       "}\n",
       "\n",
       "#sk-container-id-1 {\n",
       "  color: var(--sklearn-color-text);\n",
       "}\n",
       "\n",
       "#sk-container-id-1 pre {\n",
       "  padding: 0;\n",
       "}\n",
       "\n",
       "#sk-container-id-1 input.sk-hidden--visually {\n",
       "  border: 0;\n",
       "  clip: rect(1px 1px 1px 1px);\n",
       "  clip: rect(1px, 1px, 1px, 1px);\n",
       "  height: 1px;\n",
       "  margin: -1px;\n",
       "  overflow: hidden;\n",
       "  padding: 0;\n",
       "  position: absolute;\n",
       "  width: 1px;\n",
       "}\n",
       "\n",
       "#sk-container-id-1 div.sk-dashed-wrapped {\n",
       "  border: 1px dashed var(--sklearn-color-line);\n",
       "  margin: 0 0.4em 0.5em 0.4em;\n",
       "  box-sizing: border-box;\n",
       "  padding-bottom: 0.4em;\n",
       "  background-color: var(--sklearn-color-background);\n",
       "}\n",
       "\n",
       "#sk-container-id-1 div.sk-container {\n",
       "  /* jupyter's `normalize.less` sets `[hidden] { display: none; }`\n",
       "     but bootstrap.min.css set `[hidden] { display: none !important; }`\n",
       "     so we also need the `!important` here to be able to override the\n",
       "     default hidden behavior on the sphinx rendered scikit-learn.org.\n",
       "     See: https://github.com/scikit-learn/scikit-learn/issues/21755 */\n",
       "  display: inline-block !important;\n",
       "  position: relative;\n",
       "}\n",
       "\n",
       "#sk-container-id-1 div.sk-text-repr-fallback {\n",
       "  display: none;\n",
       "}\n",
       "\n",
       "div.sk-parallel-item,\n",
       "div.sk-serial,\n",
       "div.sk-item {\n",
       "  /* draw centered vertical line to link estimators */\n",
       "  background-image: linear-gradient(var(--sklearn-color-text-on-default-background), var(--sklearn-color-text-on-default-background));\n",
       "  background-size: 2px 100%;\n",
       "  background-repeat: no-repeat;\n",
       "  background-position: center center;\n",
       "}\n",
       "\n",
       "/* Parallel-specific style estimator block */\n",
       "\n",
       "#sk-container-id-1 div.sk-parallel-item::after {\n",
       "  content: \"\";\n",
       "  width: 100%;\n",
       "  border-bottom: 2px solid var(--sklearn-color-text-on-default-background);\n",
       "  flex-grow: 1;\n",
       "}\n",
       "\n",
       "#sk-container-id-1 div.sk-parallel {\n",
       "  display: flex;\n",
       "  align-items: stretch;\n",
       "  justify-content: center;\n",
       "  background-color: var(--sklearn-color-background);\n",
       "  position: relative;\n",
       "}\n",
       "\n",
       "#sk-container-id-1 div.sk-parallel-item {\n",
       "  display: flex;\n",
       "  flex-direction: column;\n",
       "}\n",
       "\n",
       "#sk-container-id-1 div.sk-parallel-item:first-child::after {\n",
       "  align-self: flex-end;\n",
       "  width: 50%;\n",
       "}\n",
       "\n",
       "#sk-container-id-1 div.sk-parallel-item:last-child::after {\n",
       "  align-self: flex-start;\n",
       "  width: 50%;\n",
       "}\n",
       "\n",
       "#sk-container-id-1 div.sk-parallel-item:only-child::after {\n",
       "  width: 0;\n",
       "}\n",
       "\n",
       "/* Serial-specific style estimator block */\n",
       "\n",
       "#sk-container-id-1 div.sk-serial {\n",
       "  display: flex;\n",
       "  flex-direction: column;\n",
       "  align-items: center;\n",
       "  background-color: var(--sklearn-color-background);\n",
       "  padding-right: 1em;\n",
       "  padding-left: 1em;\n",
       "}\n",
       "\n",
       "\n",
       "/* Toggleable style: style used for estimator/Pipeline/ColumnTransformer box that is\n",
       "clickable and can be expanded/collapsed.\n",
       "- Pipeline and ColumnTransformer use this feature and define the default style\n",
       "- Estimators will overwrite some part of the style using the `sk-estimator` class\n",
       "*/\n",
       "\n",
       "/* Pipeline and ColumnTransformer style (default) */\n",
       "\n",
       "#sk-container-id-1 div.sk-toggleable {\n",
       "  /* Default theme specific background. It is overwritten whether we have a\n",
       "  specific estimator or a Pipeline/ColumnTransformer */\n",
       "  background-color: var(--sklearn-color-background);\n",
       "}\n",
       "\n",
       "/* Toggleable label */\n",
       "#sk-container-id-1 label.sk-toggleable__label {\n",
       "  cursor: pointer;\n",
       "  display: block;\n",
       "  width: 100%;\n",
       "  margin-bottom: 0;\n",
       "  padding: 0.5em;\n",
       "  box-sizing: border-box;\n",
       "  text-align: center;\n",
       "}\n",
       "\n",
       "#sk-container-id-1 label.sk-toggleable__label-arrow:before {\n",
       "  /* Arrow on the left of the label */\n",
       "  content: \"▸\";\n",
       "  float: left;\n",
       "  margin-right: 0.25em;\n",
       "  color: var(--sklearn-color-icon);\n",
       "}\n",
       "\n",
       "#sk-container-id-1 label.sk-toggleable__label-arrow:hover:before {\n",
       "  color: var(--sklearn-color-text);\n",
       "}\n",
       "\n",
       "/* Toggleable content - dropdown */\n",
       "\n",
       "#sk-container-id-1 div.sk-toggleable__content {\n",
       "  max-height: 0;\n",
       "  max-width: 0;\n",
       "  overflow: hidden;\n",
       "  text-align: left;\n",
       "  /* unfitted */\n",
       "  background-color: var(--sklearn-color-unfitted-level-0);\n",
       "}\n",
       "\n",
       "#sk-container-id-1 div.sk-toggleable__content.fitted {\n",
       "  /* fitted */\n",
       "  background-color: var(--sklearn-color-fitted-level-0);\n",
       "}\n",
       "\n",
       "#sk-container-id-1 div.sk-toggleable__content pre {\n",
       "  margin: 0.2em;\n",
       "  border-radius: 0.25em;\n",
       "  color: var(--sklearn-color-text);\n",
       "  /* unfitted */\n",
       "  background-color: var(--sklearn-color-unfitted-level-0);\n",
       "}\n",
       "\n",
       "#sk-container-id-1 div.sk-toggleable__content.fitted pre {\n",
       "  /* unfitted */\n",
       "  background-color: var(--sklearn-color-fitted-level-0);\n",
       "}\n",
       "\n",
       "#sk-container-id-1 input.sk-toggleable__control:checked~div.sk-toggleable__content {\n",
       "  /* Expand drop-down */\n",
       "  max-height: 200px;\n",
       "  max-width: 100%;\n",
       "  overflow: auto;\n",
       "}\n",
       "\n",
       "#sk-container-id-1 input.sk-toggleable__control:checked~label.sk-toggleable__label-arrow:before {\n",
       "  content: \"▾\";\n",
       "}\n",
       "\n",
       "/* Pipeline/ColumnTransformer-specific style */\n",
       "\n",
       "#sk-container-id-1 div.sk-label input.sk-toggleable__control:checked~label.sk-toggleable__label {\n",
       "  color: var(--sklearn-color-text);\n",
       "  background-color: var(--sklearn-color-unfitted-level-2);\n",
       "}\n",
       "\n",
       "#sk-container-id-1 div.sk-label.fitted input.sk-toggleable__control:checked~label.sk-toggleable__label {\n",
       "  background-color: var(--sklearn-color-fitted-level-2);\n",
       "}\n",
       "\n",
       "/* Estimator-specific style */\n",
       "\n",
       "/* Colorize estimator box */\n",
       "#sk-container-id-1 div.sk-estimator input.sk-toggleable__control:checked~label.sk-toggleable__label {\n",
       "  /* unfitted */\n",
       "  background-color: var(--sklearn-color-unfitted-level-2);\n",
       "}\n",
       "\n",
       "#sk-container-id-1 div.sk-estimator.fitted input.sk-toggleable__control:checked~label.sk-toggleable__label {\n",
       "  /* fitted */\n",
       "  background-color: var(--sklearn-color-fitted-level-2);\n",
       "}\n",
       "\n",
       "#sk-container-id-1 div.sk-label label.sk-toggleable__label,\n",
       "#sk-container-id-1 div.sk-label label {\n",
       "  /* The background is the default theme color */\n",
       "  color: var(--sklearn-color-text-on-default-background);\n",
       "}\n",
       "\n",
       "/* On hover, darken the color of the background */\n",
       "#sk-container-id-1 div.sk-label:hover label.sk-toggleable__label {\n",
       "  color: var(--sklearn-color-text);\n",
       "  background-color: var(--sklearn-color-unfitted-level-2);\n",
       "}\n",
       "\n",
       "/* Label box, darken color on hover, fitted */\n",
       "#sk-container-id-1 div.sk-label.fitted:hover label.sk-toggleable__label.fitted {\n",
       "  color: var(--sklearn-color-text);\n",
       "  background-color: var(--sklearn-color-fitted-level-2);\n",
       "}\n",
       "\n",
       "/* Estimator label */\n",
       "\n",
       "#sk-container-id-1 div.sk-label label {\n",
       "  font-family: monospace;\n",
       "  font-weight: bold;\n",
       "  display: inline-block;\n",
       "  line-height: 1.2em;\n",
       "}\n",
       "\n",
       "#sk-container-id-1 div.sk-label-container {\n",
       "  text-align: center;\n",
       "}\n",
       "\n",
       "/* Estimator-specific */\n",
       "#sk-container-id-1 div.sk-estimator {\n",
       "  font-family: monospace;\n",
       "  border: 1px dotted var(--sklearn-color-border-box);\n",
       "  border-radius: 0.25em;\n",
       "  box-sizing: border-box;\n",
       "  margin-bottom: 0.5em;\n",
       "  /* unfitted */\n",
       "  background-color: var(--sklearn-color-unfitted-level-0);\n",
       "}\n",
       "\n",
       "#sk-container-id-1 div.sk-estimator.fitted {\n",
       "  /* fitted */\n",
       "  background-color: var(--sklearn-color-fitted-level-0);\n",
       "}\n",
       "\n",
       "/* on hover */\n",
       "#sk-container-id-1 div.sk-estimator:hover {\n",
       "  /* unfitted */\n",
       "  background-color: var(--sklearn-color-unfitted-level-2);\n",
       "}\n",
       "\n",
       "#sk-container-id-1 div.sk-estimator.fitted:hover {\n",
       "  /* fitted */\n",
       "  background-color: var(--sklearn-color-fitted-level-2);\n",
       "}\n",
       "\n",
       "/* Specification for estimator info (e.g. \"i\" and \"?\") */\n",
       "\n",
       "/* Common style for \"i\" and \"?\" */\n",
       "\n",
       ".sk-estimator-doc-link,\n",
       "a:link.sk-estimator-doc-link,\n",
       "a:visited.sk-estimator-doc-link {\n",
       "  float: right;\n",
       "  font-size: smaller;\n",
       "  line-height: 1em;\n",
       "  font-family: monospace;\n",
       "  background-color: var(--sklearn-color-background);\n",
       "  border-radius: 1em;\n",
       "  height: 1em;\n",
       "  width: 1em;\n",
       "  text-decoration: none !important;\n",
       "  margin-left: 1ex;\n",
       "  /* unfitted */\n",
       "  border: var(--sklearn-color-unfitted-level-1) 1pt solid;\n",
       "  color: var(--sklearn-color-unfitted-level-1);\n",
       "}\n",
       "\n",
       ".sk-estimator-doc-link.fitted,\n",
       "a:link.sk-estimator-doc-link.fitted,\n",
       "a:visited.sk-estimator-doc-link.fitted {\n",
       "  /* fitted */\n",
       "  border: var(--sklearn-color-fitted-level-1) 1pt solid;\n",
       "  color: var(--sklearn-color-fitted-level-1);\n",
       "}\n",
       "\n",
       "/* On hover */\n",
       "div.sk-estimator:hover .sk-estimator-doc-link:hover,\n",
       ".sk-estimator-doc-link:hover,\n",
       "div.sk-label-container:hover .sk-estimator-doc-link:hover,\n",
       ".sk-estimator-doc-link:hover {\n",
       "  /* unfitted */\n",
       "  background-color: var(--sklearn-color-unfitted-level-3);\n",
       "  color: var(--sklearn-color-background);\n",
       "  text-decoration: none;\n",
       "}\n",
       "\n",
       "div.sk-estimator.fitted:hover .sk-estimator-doc-link.fitted:hover,\n",
       ".sk-estimator-doc-link.fitted:hover,\n",
       "div.sk-label-container:hover .sk-estimator-doc-link.fitted:hover,\n",
       ".sk-estimator-doc-link.fitted:hover {\n",
       "  /* fitted */\n",
       "  background-color: var(--sklearn-color-fitted-level-3);\n",
       "  color: var(--sklearn-color-background);\n",
       "  text-decoration: none;\n",
       "}\n",
       "\n",
       "/* Span, style for the box shown on hovering the info icon */\n",
       ".sk-estimator-doc-link span {\n",
       "  display: none;\n",
       "  z-index: 9999;\n",
       "  position: relative;\n",
       "  font-weight: normal;\n",
       "  right: .2ex;\n",
       "  padding: .5ex;\n",
       "  margin: .5ex;\n",
       "  width: min-content;\n",
       "  min-width: 20ex;\n",
       "  max-width: 50ex;\n",
       "  color: var(--sklearn-color-text);\n",
       "  box-shadow: 2pt 2pt 4pt #999;\n",
       "  /* unfitted */\n",
       "  background: var(--sklearn-color-unfitted-level-0);\n",
       "  border: .5pt solid var(--sklearn-color-unfitted-level-3);\n",
       "}\n",
       "\n",
       ".sk-estimator-doc-link.fitted span {\n",
       "  /* fitted */\n",
       "  background: var(--sklearn-color-fitted-level-0);\n",
       "  border: var(--sklearn-color-fitted-level-3);\n",
       "}\n",
       "\n",
       ".sk-estimator-doc-link:hover span {\n",
       "  display: block;\n",
       "}\n",
       "\n",
       "/* \"?\"-specific style due to the `<a>` HTML tag */\n",
       "\n",
       "#sk-container-id-1 a.estimator_doc_link {\n",
       "  float: right;\n",
       "  font-size: 1rem;\n",
       "  line-height: 1em;\n",
       "  font-family: monospace;\n",
       "  background-color: var(--sklearn-color-background);\n",
       "  border-radius: 1rem;\n",
       "  height: 1rem;\n",
       "  width: 1rem;\n",
       "  text-decoration: none;\n",
       "  /* unfitted */\n",
       "  color: var(--sklearn-color-unfitted-level-1);\n",
       "  border: var(--sklearn-color-unfitted-level-1) 1pt solid;\n",
       "}\n",
       "\n",
       "#sk-container-id-1 a.estimator_doc_link.fitted {\n",
       "  /* fitted */\n",
       "  border: var(--sklearn-color-fitted-level-1) 1pt solid;\n",
       "  color: var(--sklearn-color-fitted-level-1);\n",
       "}\n",
       "\n",
       "/* On hover */\n",
       "#sk-container-id-1 a.estimator_doc_link:hover {\n",
       "  /* unfitted */\n",
       "  background-color: var(--sklearn-color-unfitted-level-3);\n",
       "  color: var(--sklearn-color-background);\n",
       "  text-decoration: none;\n",
       "}\n",
       "\n",
       "#sk-container-id-1 a.estimator_doc_link.fitted:hover {\n",
       "  /* fitted */\n",
       "  background-color: var(--sklearn-color-fitted-level-3);\n",
       "}\n",
       "</style><div id=\"sk-container-id-1\" class=\"sk-top-container\"><div class=\"sk-text-repr-fallback\"><pre>LinearRegression()</pre><b>In a Jupyter environment, please rerun this cell to show the HTML representation or trust the notebook. <br />On GitHub, the HTML representation is unable to render, please try loading this page with nbviewer.org.</b></div><div class=\"sk-container\" hidden><div class=\"sk-item\"><div class=\"sk-estimator fitted sk-toggleable\"><input class=\"sk-toggleable__control sk-hidden--visually\" id=\"sk-estimator-id-1\" type=\"checkbox\" checked><label for=\"sk-estimator-id-1\" class=\"sk-toggleable__label fitted sk-toggleable__label-arrow fitted\">&nbsp;&nbsp;LinearRegression<a class=\"sk-estimator-doc-link fitted\" rel=\"noreferrer\" target=\"_blank\" href=\"https://scikit-learn.org/1.5/modules/generated/sklearn.linear_model.LinearRegression.html\">?<span>Documentation for LinearRegression</span></a><span class=\"sk-estimator-doc-link fitted\">i<span>Fitted</span></span></label><div class=\"sk-toggleable__content fitted\"><pre>LinearRegression()</pre></div> </div></div></div></div>"
      ],
      "text/plain": [
       "LinearRegression()"
      ]
     },
     "execution_count": 621,
     "metadata": {},
     "output_type": "execute_result"
    }
   ],
   "source": [
    "model.fit(X_train, y_train)"
   ]
  },
  {
   "cell_type": "markdown",
   "metadata": {},
   "source": [
    "### Making Predictions (Inference)"
   ]
  },
  {
   "cell_type": "code",
   "execution_count": 622,
   "metadata": {},
   "outputs": [],
   "source": [
    "# predictiing the dependent variable \n",
    "y_pred = model.predict(X_test)"
   ]
  },
  {
   "cell_type": "code",
   "execution_count": 624,
   "metadata": {},
   "outputs": [
    {
     "data": {
      "text/plain": [
       "array([-41.61764346])"
      ]
     },
     "execution_count": 624,
     "metadata": {},
     "output_type": "execute_result"
    }
   ],
   "source": [
    "# Single-Point Predictions \n",
    "model.predict(X_test.iloc[[0]])"
   ]
  },
  {
   "cell_type": "markdown",
   "metadata": {},
   "source": [
    "## Section 5: Model Evaluation"
   ]
  },
  {
   "cell_type": "code",
   "execution_count": 643,
   "metadata": {},
   "outputs": [
    {
     "name": "stdout",
     "output_type": "stream",
     "text": [
      "Mean Squared Error (MSE): 492046.57\n",
      "Mean Absolute Error (MAE): 355.47\n",
      "R-Squared: -0.55\n"
     ]
    }
   ],
   "source": [
    "from sklearn.metrics import mean_squared_error, mean_absolute_error, r2_score\n",
    "\n",
    "# Predicting on the test set\n",
    "y_pred = model.predict(X_test)\n",
    "\n",
    "# Calculating evaluation metrics\n",
    "mse = mean_squared_error(y_test, y_pred)\n",
    "mae = mean_absolute_error(y_test, y_pred)\n",
    "r2 = r2_score(y_test, y_pred)\n",
    "\n",
    "# Displaying the metrics\n",
    "print(f\"Mean Squared Error (MSE): {mse:.2f}\")\n",
    "print(f\"Mean Absolute Error (MAE): {mae:.2f}\")\n",
    "print(f\"R-Squared: {r2:.2f}\")\n"
   ]
  },
  {
   "cell_type": "code",
   "execution_count": 644,
   "metadata": {},
   "outputs": [
    {
     "data": {
      "image/png": "[encoded data removed]",
      "text/plain": [
       "<Figure size 800x600 with 1 Axes>"
      ]
     },
     "metadata": {},
     "output_type": "display_data"
    }
   ],
   "source": [
    "# Plotting Actual vs Predicted Values\n",
    "plt.figure(figsize=(8, 6))\n",
    "plt.scatter(y_test, y_pred, alpha=0.6)\n",
    "plt.plot([y_test.min(), y_test.max()], [y_test.min(), y_test.max()], color='red', linestyle='--')\n",
    "plt.title(\"Actual vs Predicted Profit Margins\")\n",
    "plt.xlabel(\"Actual Values\")\n",
    "plt.ylabel(\"Predicted Values\")\n",
    "plt.show()\n"
   ]
  }
 ],
 "metadata": {
  "kernelspec": {
   "display_name": "machine-learning-env",
   "language": "python",
   "name": "python3"
  },
  "language_info": {
   "codemirror_mode": {
    "name": "ipython",
    "version": 3
   },
   "file_extension": ".py",
   "mimetype": "text/x-python",
   "name": "python",
   "nbconvert_exporter": "python",
   "pygments_lexer": "ipython3",
   "version": "3.10.13"
  }
 },
 "nbformat": 4,
 "nbformat_minor": 2
}
